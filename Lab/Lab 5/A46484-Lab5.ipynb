{
 "cells": [
  {
   "cell_type": "markdown",
   "metadata": {},
   "source": [
    "# LAb5: Generalização de modelos lineares"
   ]
  },
  {
   "cell_type": "markdown",
   "metadata": {},
   "source": [
    "<hr style=\"border:1px  solid black\"> </hr>"
   ]
  },
  {
   "cell_type": "markdown",
   "metadata": {},
   "source": [
    "### (Preencher)\n",
    "## Nome: Duarte Gonçalves\n",
    "## Número: 46484"
   ]
  },
  {
   "cell_type": "markdown",
   "metadata": {},
   "source": [
    "<hr style=\"border:1px  solid black\"> </hr>"
   ]
  },
  {
   "cell_type": "markdown",
   "metadata": {},
   "source": [
    "## Desenvolva e corra o código pedido nas células imediatamente abaixo das perguntas."
   ]
  },
  {
   "cell_type": "markdown",
   "metadata": {},
   "source": [
    "# IMPORTANTE:\n",
    "## Uma vez completado, grave este Jupyter notebook com o seguinte nome:\n",
    "## Axxxxx-Lab5.ipynb (Axxxxx: número de aluno)\n",
    "##  e depois submeta o ficheiro no link do Moodle providenciado para o efeito."
   ]
  },
  {
   "cell_type": "markdown",
   "metadata": {},
   "source": [
    "<hr style=\"border:2px solid black\"> </hr>"
   ]
  },
  {
   "cell_type": "markdown",
   "metadata": {},
   "source": [
    "# Dados: $\\texttt{breast_cancer}$ dataset do $\\texttt{sklearn}$\n",
    "### Considere os dados do $\\texttt{breast_cancer}$ dataset do $\\texttt{sklearn}$, divididos em três conjuntos, treino/validação/teste, segundo os comandos da próxima célula.\n",
    "* ### X1a: dados de treino (array de $319\\times30$)\n",
    "* ### y1a: classe do dados de treino\n",
    "* ### X1b: dados de validação (array de $100\\times30$)\n",
    "* ### y1b: classe do dados de validação\n",
    "* ### X2: dados de treino (array de $150\\times30$)\n",
    "* ### y2: classe do dados de teste"
   ]
  },
  {
   "cell_type": "code",
   "execution_count": 79,
   "metadata": {},
   "outputs": [],
   "source": [
    "import numpy as np\n",
    "import matplotlib.pyplot as plt\n",
    "from sklearn.metrics import confusion_matrix, roc_curve\n",
    "from sklearn.model_selection import  train_test_split\n",
    "import sklearn.datasets as DT\n",
    "from sklearn.svm import SVC\n",
    "from sklearn.linear_model import LogisticRegression\n",
    "\n",
    "D=DT.load_breast_cancer()\n",
    "X=D.data\n",
    "y=D.target\n",
    "\n",
    "################################################################\n",
    "#ATENÇÃO: Considerar os casos malígnos como positivos (classe 1)\n",
    "#Necessário inverter classes\n",
    "y=np.abs(y-1)\n",
    "################################################################\n",
    "\n",
    "#divitir em treino, validação e teste\n",
    "X1,X2,y1,y2=train_test_split(X,y,test_size=150,stratify=y,random_state=42)\n",
    "X1a,X1b,y1a,y1b=train_test_split(X1,y1,test_size=100,stratify=y1,random_state=42)"
   ]
  },
  {
   "cell_type": "markdown",
   "metadata": {},
   "source": [
    "# Pergunta 1: Discriminantes logístico\n",
    "##  Considere um discriminante logístico com regularização $\\ell_1$ (lasso) e com os parâmetros $\\texttt{C=2}$, $\\texttt{solver='saga'}$ e $\\texttt{max_iter=5000}$. Treine o classificador com os conjuntos de treino e validação (419 exemplos).\n",
    "### a) Imprima o número total de erros e matriz de confusão (não normalizada) deste classificador para o conjunto de teste.\n",
    "### b) Imprima o índice e os nomes (feature names) das dimensões dos dados que não interferem no processo de classificação (dimensões descartadas).\n",
    "### c) Calibre este classificador de maneira a ter um número máximo de falsos negativos no teste inferior o igual a 5, e ao mesmo tempo mantendo o número total de erros igual à da alínea 1.a).\n",
    "### d) Faça um plot da curva ROC deste classificador com os dados de teste. Inclua nesse plot o ponto operacional dos classificadores das alíneas 1.a) e 1.c)."
   ]
  },
  {
   "cell_type": "markdown",
   "metadata": {},
   "source": [
    "## 1.a)"
   ]
  },
  {
   "cell_type": "code",
   "execution_count": 80,
   "metadata": {},
   "outputs": [
    {
     "name": "stdout",
     "output_type": "stream",
     "text": [
      "X1 Shape:  (419, 30)\n",
      "X1a Shape:  (319, 30)\n",
      "X1b Shape:  (100, 30)\n",
      "X2 Shape:  (150, 30)\n",
      "y1 Shape:  (419,)\n",
      "y1a Shape:  (319,)\n",
      "y1b Shape:  (100,)\n",
      "y2 Shape:  (150,)\n"
     ]
    }
   ],
   "source": [
    "print(\"X1 Shape: \", X1.shape)\n",
    "print(\"X1a Shape: \", X1a.shape)\n",
    "print(\"X1b Shape: \", X1b.shape)\n",
    "print(\"X2 Shape: \", X2.shape)\n",
    "print(\"y1 Shape: \", y1.shape)\n",
    "print(\"y1a Shape: \", y1a.shape)\n",
    "print(\"y1b Shape: \", y1b.shape)\n",
    "print(\"y2 Shape: \", y2.shape)"
   ]
  },
  {
   "cell_type": "code",
   "execution_count": 81,
   "metadata": {},
   "outputs": [
    {
     "name": "stdout",
     "output_type": "stream",
     "text": [
      "Número de erros (teste):  12\n",
      "-----------------\n",
      "Matriz de confusão (teste):\n",
      " [[93  1]\n",
      " [11 45]]\n"
     ]
    }
   ],
   "source": [
    "dl = LogisticRegression(penalty='l1', C=2, solver='saga', max_iter=5000).fit(X1,y1)\n",
    "y2e = dl.predict(X2)\n",
    "MC = confusion_matrix(y2,y2e)\n",
    "print('Número de erros (teste): ',np.sum(y2!=y2e))\n",
    "print('-----------------')\n",
    "print('Matriz de confusão (teste):\\n',MC)"
   ]
  },
  {
   "cell_type": "markdown",
   "metadata": {},
   "source": [
    "## 1.b)"
   ]
  },
  {
   "cell_type": "code",
   "execution_count": 82,
   "metadata": {},
   "outputs": [
    {
     "name": "stdout",
     "output_type": "stream",
     "text": [
      "['mean radius' 'mean texture' 'mean perimeter' 'mean area'\n",
      " 'mean smoothness' 'mean compactness' 'mean concavity'\n",
      " 'mean concave points' 'mean symmetry' 'mean fractal dimension'\n",
      " 'radius error' 'texture error' 'perimeter error' 'area error'\n",
      " 'smoothness error' 'compactness error' 'concavity error'\n",
      " 'concave points error' 'symmetry error' 'fractal dimension error'\n",
      " 'worst radius' 'worst texture' 'worst perimeter' 'worst area'\n",
      " 'worst smoothness' 'worst compactness' 'worst concavity'\n",
      " 'worst concave points' 'worst symmetry' 'worst fractal dimension']\n",
      "\n",
      "Coeficientes:\n",
      " [-1.26722509e-02 -6.23315958e-03 -6.75157896e-02 -1.69012803e-02\n",
      "  0.00000000e+00  1.44325543e-04  3.80489016e-04  9.40829439e-05\n",
      " -4.84906869e-05  0.00000000e+00  0.00000000e+00 -8.68733442e-04\n",
      "  9.24915760e-04  2.48354742e-02  0.00000000e+00  0.00000000e+00\n",
      "  0.00000000e+00  0.00000000e+00  0.00000000e+00  0.00000000e+00\n",
      " -1.31219415e-02 -3.79619033e-03 -6.00277527e-02  2.78746910e-02\n",
      "  0.00000000e+00  7.95040191e-04  1.15583341e-03  2.32430745e-04\n",
      "  1.37496280e-05  0.00000000e+00]\n",
      "\n",
      " Indices Coeficientes = 0:  [ 4  9 10 14 15 16 17 18 19 24 29]\n",
      "\n",
      "['mean smoothness' 'mean fractal dimension' 'radius error'\n",
      " 'smoothness error' 'compactness error' 'concavity error'\n",
      " 'concave points error' 'symmetry error' 'fractal dimension error'\n",
      " 'worst smoothness' 'worst fractal dimension']\n"
     ]
    }
   ],
   "source": [
    "feat_names = D.feature_names\n",
    "print(feat_names)\n",
    "\n",
    "w = dl.coef_.squeeze()\n",
    "print('\\nCoeficientes:\\n',w)\n",
    "idx = np.argwhere(w==0).squeeze()\n",
    "print('\\n Indices Coeficientes = 0: ',idx)\n",
    "\n",
    "print()\n",
    "print(feat_names[idx])\n"
   ]
  },
  {
   "cell_type": "markdown",
   "metadata": {},
   "source": [
    "## 1.c)"
   ]
  },
  {
   "cell_type": "code",
   "execution_count": 83,
   "metadata": {},
   "outputs": [
    {
     "name": "stdout",
     "output_type": "stream",
     "text": [
      "Nº total de erros:  12\n",
      "Matriz de confusão:\n",
      " [[93  1]\n",
      " [11 45]]\n"
     ]
    }
   ],
   "source": [
    "Z = dl.decision_function(X2)\n",
    "\n",
    "topLimiar  = 0\n",
    "lList = np.arange(-2, 2, 0.01)\n",
    "for l in lList: \n",
    "    if (confusion_matrix(y2, Z >= l)[1,0] <= 5) and len(((Z >= l) != y2)==12): \n",
    "        topLimiar = l                                                                      \n",
    "\n",
    "MCc= confusion_matrix(y2, Z >= topLimiar)\n",
    "print('Nº total de erros: ', np.sum(y2 != (Z >= topLimiar)))\n",
    "print('Matriz de confusão:\\n', MC)\n"
   ]
  },
  {
   "cell_type": "markdown",
   "metadata": {},
   "source": [
    "## 1.d)"
   ]
  },
  {
   "cell_type": "code",
   "execution_count": 84,
   "metadata": {},
   "outputs": [
    {
     "data": {
      "image/png": "[encoded data removed]",
      "text/plain": [
       "<Figure size 600x600 with 1 Axes>"
      ]
     },
     "metadata": {},
     "output_type": "display_data"
    }
   ],
   "source": [
    "fpr, tpr, t = roc_curve(y2, Z)\n",
    "\n",
    "# Pontos Classificação A)\n",
    "tpa = MC[0,1]/(MC[0,1] + MC[0,0])\n",
    "fpa= MC[1,1]/(MC[1,1] + MC[1,0])\n",
    "\n",
    "# Pontos Classificação c)\n",
    "tpc = MCc[0,1]/(MCc[0,1] + MCc[0,0])\n",
    "fpc = MCc[1,1]/(MCc[1,1] + MCc[1,0])\n",
    "\n",
    "\n",
    "plt.figure(figsize=(6,6))\n",
    "\n",
    "# Plot dos Pontos\n",
    "plt.plot(tpa, fpa, 'o', label='Ponto Operacional A')\n",
    "plt.plot(tpc, fpc, 'o', label='Ponto Operacional C')\n",
    "\n",
    "# Plot da Curva ROC\n",
    "plt.plot(fpr,tpr, label='Curva ROC')\n",
    "\n",
    "plt.ylabel('Taxa de True Positive')\n",
    "plt.xlabel('Taxa de False Positive')\n",
    "plt.legend()\n",
    "plt.axis('scaled')\n",
    "plt.show()"
   ]
  },
  {
   "cell_type": "markdown",
   "metadata": {},
   "source": [
    "<hr style=\"border:2px solid black\"> </hr>"
   ]
  },
  {
   "cell_type": "markdown",
   "metadata": {},
   "source": [
    "# Pergunta 2 - SVMs:\n",
    "## Considere o classificador da função $\\texttt{SVC}$ com os parâmetros $\\texttt{kernel='rbf'}$ e $\\texttt{C=2}$.\n",
    "### a) Faça um pré-processamento dos dados usando a função $\\texttt{StandardScaler}$. Treine esta função com os dados treino e aplique a transformação aos três conjuntos (treino, validação e teste). Use os dados pré-processados nas alíneas seguintes.\n",
    "### b) Pertende-se estimar o valor do parâmetro $\\texttt{gamma}$  ($\\gamma$) mais adequado para este problema. Para tal, use o conjunto de validação para achar o valor de $\\gamma$ que resulta no menor número de erros (treine o $\\texttt{SVC}$ com o conjunto de treino). Teste os seguintes valores de $\\gamma$: $[0.005 , 0.0075, 0.01  , 0.0125, 0.015 , 0.0175]$. Volte a treinar o classificador $\\texttt{SVC}$ com os dados de treino e validação, e com o melhor valor de $\\gamma$. Imprima o número total de erros e matriz de confusão (não normalizada) deste classificador para o conjunto de teste.\n",
    "### c)  Calibre o classificador da alínea anterior de modo a obter zero (0) falsos negativos nos dados de teste. Após a calibração qual o número mínimo de falso positivos obtidos no teste?\n",
    "### d) Faça um plot da curva ROC deste classificador com os dados de teste. Inclua nesse plot o ponto operacional dos classificadores das alíneas 1.b) e 1.c)."
   ]
  },
  {
   "cell_type": "markdown",
   "metadata": {},
   "source": [
    "## 2.a)"
   ]
  },
  {
   "cell_type": "code",
   "execution_count": 85,
   "metadata": {},
   "outputs": [],
   "source": [
    "from sklearn.preprocessing import StandardScaler\n",
    "scaler = StandardScaler().fit(X1a)\n",
    "\n",
    "X1an = scaler.transform(X1a)\n",
    "X1bn = scaler.transform(X1b)\n",
    "X2n = scaler.transform(X2)"
   ]
  },
  {
   "cell_type": "markdown",
   "metadata": {},
   "source": [
    "## 2.b)"
   ]
  },
  {
   "cell_type": "code",
   "execution_count": 86,
   "metadata": {},
   "outputs": [
    {
     "name": "stdout",
     "output_type": "stream",
     "text": [
      "Melhor Gamma: 0.01\n",
      "Melhor Score: 0.99\n",
      "Matriz de Confusão:\n",
      " [[63  0]\n",
      " [ 2 35]]\n"
     ]
    }
   ],
   "source": [
    "#svm=SVC(kernel='rbf',C=2)\n",
    "#[0.005 , 0.0075, 0.01  , 0.0125, 0.015 , 0.0175]\n",
    "gList = [0.005 , 0.0075, 0.01 , 0.0125, 0.015 , 0.0175]\n",
    "topScore = 0\n",
    "topGamma = 0\n",
    "for g in gList:\n",
    "    svm = SVC(kernel='rbf', C=2, gamma = g).fit(X1an,y1a)\n",
    "    score = svm.score(X1bn,y1b)\n",
    "    if score > topScore:\n",
    "        topScore = score\n",
    "        topGamma = g\n",
    "        \n",
    "MCb = confusion_matrix(y1b,svm.predict(X1bn))\n",
    "print('Melhor Gamma:', topGamma)\n",
    "print('Melhor Score:', topScore)\n",
    "print('Matriz de Confusão:\\n', MCb)\n"
   ]
  },
  {
   "cell_type": "markdown",
   "metadata": {},
   "source": [
    "## 2.c)"
   ]
  },
  {
   "cell_type": "code",
   "execution_count": 87,
   "metadata": {},
   "outputs": [
    {
     "name": "stdout",
     "output_type": "stream",
     "text": [
      "Matriz de Confusão:\n",
      " [[84 10]\n",
      " [ 0 56]]\n",
      "Número de falsos positivos:  10\n"
     ]
    }
   ],
   "source": [
    "#        estimado\n",
    "#          0  1\n",
    "# real  0 TN FP\n",
    "#       1 FN TP\n",
    "\n",
    "# FN = 0 MC[1,0]\n",
    "# FP = ? MC[0,1]\n",
    "\n",
    "X1n = scaler.transform(X1)\n",
    "svm = SVC(kernel='rbf', C=2, gamma=topGamma).fit(X1n,y1)\n",
    "Z = svm.decision_function(X2n)\n",
    "lList = np.arange(-1, 1, topGamma)\n",
    "topLimiar = 0\n",
    "for l in lList:\n",
    "    if (confusion_matrix(y2,Z >= l))[1,0] == 0: # Condição: FN ser 0\n",
    "        topLimiar = l\n",
    "\n",
    "MCc = confusion_matrix(y2,Z >= topLimiar)\n",
    "print('Matriz de Confusão:\\n', MCc)\n",
    "print('Número de falsos positivos: ', MCc[0, 1])\n",
    "\n",
    "\n"
   ]
  },
  {
   "cell_type": "markdown",
   "metadata": {},
   "source": [
    "## 2.d)"
   ]
  },
  {
   "cell_type": "code",
   "execution_count": 88,
   "metadata": {},
   "outputs": [
    {
     "data": {
      "image/png": "[encoded data removed]",
      "text/plain": [
       "<Figure size 600x600 with 1 Axes>"
      ]
     },
     "metadata": {},
     "output_type": "display_data"
    }
   ],
   "source": [
    "fpr, tpr, t = roc_curve(y2, Z)\n",
    "\n",
    "\n",
    "plt.figure(figsize=(6,6))\n",
    "\n",
    "# Plot do ponto B\n",
    "tpb = MCb[0,1]/(MCb[0,1]+MCb[0,0])\n",
    "fpb=MCb[1,1]/(MCb[1,1]+MCb[1,0])\n",
    "plt.plot(tpb, fpb, 'o', label = ' Ponto Operacional B)')\n",
    "\n",
    "# Plot do ponto C\n",
    "tpc=MCc[0,1]/(MCc[0,1]+MCc[0,0])\n",
    "fpc=MCc[1,1]/(MCc[1,1]+MCc[1,0])\n",
    "plt.plot(tpc, fpc, 'o', label = ' Ponto Operacional C)')\n",
    "\n",
    "\n",
    "# Plot da curva ROC\n",
    "plt.plot(fpr, tpr, label = 'Curva ROC')\n",
    "\n",
    "plt.axis('scaled')\n",
    "plt.ylabel('Taxa de True Positive')\n",
    "plt.xlabel('Taxa de False Positive')\n",
    "plt.legend()\n",
    "plt.show()"
   ]
  }
 ],
 "metadata": {
  "kernelspec": {
   "display_name": "Python 3",
   "language": "python",
   "name": "python3"
  },
  "language_info": {
   "codemirror_mode": {
    "name": "ipython",
    "version": 3
   },
   "file_extension": ".py",
   "mimetype": "text/x-python",
   "name": "python",
   "nbconvert_exporter": "python",
   "pygments_lexer": "ipython3",
   "version": "3.11.5"
  }
 },
 "nbformat": 4,
 "nbformat_minor": 4
}
