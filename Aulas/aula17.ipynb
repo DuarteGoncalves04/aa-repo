{
 "cells": [
  {
   "cell_type": "code",
   "execution_count": 8,
   "metadata": {},
   "outputs": [],
   "source": [
    "import pickle \n",
    "import numpy as np\n",
    "import matplotlib.pyplot as plt"
   ]
  },
  {
   "cell_type": "code",
   "execution_count": 9,
   "metadata": {},
   "outputs": [
    {
     "data": {
      "text/plain": [
       "dict_keys(['data', 'target', 'DESC'])"
      ]
     },
     "execution_count": 9,
     "metadata": {},
     "output_type": "execute_result"
    }
   ],
   "source": [
    "fN = '../imdbCriticas.p'\n",
    "D = pickle.load(open(fN, 'rb'))\n",
    "D.keys()"
   ]
  },
  {
   "cell_type": "code",
   "execution_count": 10,
   "metadata": {},
   "outputs": [
    {
     "name": "stdout",
     "output_type": "stream",
     "text": [
      "This dataset contains movie reviews along with their associated binary sentiment polarity labels. It is intended to serve as a benchmark for sentiment classification. This document outlines how the dataset was gathered, and how to use the files provided.\n",
      "For more details see: http://ai.stanford.edu/~amaas/data/sentiment/\n"
     ]
    }
   ],
   "source": [
    "x = D.data\n",
    "y = D.target\n",
    "print(D.DESC)"
   ]
  },
  {
   "cell_type": "code",
   "execution_count": 13,
   "metadata": {},
   "outputs": [
    {
     "name": "stdout",
     "output_type": "stream",
     "text": [
      " 19790\n",
      " 20210\n"
     ]
    }
   ],
   "source": [
    "np.unique(y)\n",
    "yb = (y > 5)*1\n",
    "print('',np.sum(yb))\n",
    "print('',np.sum(yb==0))\n",
    "Doc = x"
   ]
  },
  {
   "cell_type": "code",
   "execution_count": 15,
   "metadata": {},
   "outputs": [],
   "source": [
    "from sklearn.feature_extraction.text import TfidfVectorizer\n",
    "tfid = TfidfVectorizer().fit(Doc)\n",
    "X = tfid.transform(Doc)"
   ]
  },
  {
   "cell_type": "code",
   "execution_count": 17,
   "metadata": {},
   "outputs": [
    {
     "name": "stdout",
     "output_type": "stream",
     "text": [
      "(88214,)\n"
     ]
    }
   ],
   "source": [
    "voc = tfid.get_feature_names_out()\n",
    "print(voc.shape)"
   ]
  },
  {
   "cell_type": "code",
   "execution_count": 18,
   "metadata": {},
   "outputs": [
    {
     "data": {
      "text/plain": [
       "array(['actualize', 'actuall', 'actually', 'actualy', 'actuators',\n",
       "       'actuelly', 'actullly', 'actully', 'acturly', 'acual', 'acually',\n",
       "       'acuff', 'acuhu', 'acuity', 'acumen', 'acuna', 'acupat',\n",
       "       'acupuncture', 'acupuncturist', 'acurate', 'acus', 'acute',\n",
       "       'acutely', 'acuteness', 'ad', 'ada', 'adabted', 'adachi', 'adage',\n",
       "       'adagietto', 'adagio', 'adah', 'adajani', 'adalbert', 'adam',\n",
       "       'adama', 'adamant', 'adamantium', 'adamantly', 'adamason',\n",
       "       'adames', 'adamfontaine', 'adamos', 'adams', 'adamson', 'adamsons',\n",
       "       'adapt', 'adaptable', 'adaptaion', 'adaptation', 'adaptations',\n",
       "       'adapted', 'adapter', 'adapters', 'adapting', 'adaption',\n",
       "       'adaptions', 'adaptor', 'adaptors', 'adapts', 'adarsh', 'adas',\n",
       "       'aday', 'adays', 'adcox', 'add', 'addams', 'addario', 'added',\n",
       "       'addendum', 'adder', 'addict', 'addicted', 'addicting',\n",
       "       'addiction', 'addictions', 'addictive', 'addicts', 'addicus',\n",
       "       'addie', 'adding', 'addison', 'addition', 'additionaally',\n",
       "       'additional', 'additionally', 'additions', 'additive', 'additives',\n",
       "       'additon', 'addle', 'addled', 'address', 'addressed', 'addresses',\n",
       "       'addressing', 'adds', 'addtion', 'addtionally', 'addy'],\n",
       "      dtype=object)"
      ]
     },
     "execution_count": 18,
     "metadata": {},
     "output_type": "execute_result"
    }
   ],
   "source": [
    "voc[2000:2100]"
   ]
  }
 ],
 "metadata": {
  "kernelspec": {
   "display_name": "Python 3",
   "language": "python",
   "name": "python3"
  },
  "language_info": {
   "codemirror_mode": {
    "name": "ipython",
    "version": 3
   },
   "file_extension": ".py",
   "mimetype": "text/x-python",
   "name": "python",
   "nbconvert_exporter": "python",
   "pygments_lexer": "ipython3",
   "version": "3.11.5"
  }
 },
 "nbformat": 4,
 "nbformat_minor": 2
}
