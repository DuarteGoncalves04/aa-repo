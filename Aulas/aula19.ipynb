{
 "cells": [
  {
   "cell_type": "code",
   "execution_count": 1,
   "metadata": {},
   "outputs": [],
   "source": [
    "import numpy as np\n",
    "import matplotlib.pyplot as plt\n",
    "import pickle\n",
    "from sklearn.feature_extraction.text import TfidfVectorizer"
   ]
  },
  {
   "cell_type": "code",
   "execution_count": 3,
   "metadata": {},
   "outputs": [
    {
     "name": "stdout",
     "output_type": "stream",
     "text": [
      "dict_keys(['data', 'target', 'DESC'])\n"
     ]
    }
   ],
   "source": [
    "fn = '../imdbCriticas.p'\n",
    "D = pickle.load(open(fn, 'rb'))\n",
    "print(D.keys())"
   ]
  },
  {
   "cell_type": "code",
   "execution_count": 5,
   "metadata": {},
   "outputs": [
    {
     "data": {
      "text/plain": [
       "array(['00', '000', '00000000000', '0000000000001', '00000001', '00001',\n",
       "       '00015', '000dm', '001', '003830', '006', '0069', '007', '0079',\n",
       "       '007s', '0080', '0083', '009', '0093638', '00am', '00o', '00pm',\n",
       "       '00s', '01', '0126', '0148', '01pm', '02', '020410', '0230', '029',\n",
       "       '03', '039', '04', '044', '05', '050', '06', '0615', '07', '07b',\n",
       "       '08', '087', '089', '08th', '09', '0and', '0f', '0ne', '0r', '0s',\n",
       "       '10', '100', '1000', '10000', '1000000', '10000000000',\n",
       "       '10000000000000', '10000th', '1000lb', '1000s', '1000th', '1001',\n",
       "       '1004', '100b', '100ft', '100ibs', '100k', '100min', '100mins',\n",
       "       '100mph', '100s', '100th', '100times', '100x', '100yards', '101',\n",
       "       '101st', '102', '102nd', '103', '104', '1040', '1040a', '1040s',\n",
       "       '105', '1050', '106', '106min', '107', '108', '1080', '1080p',\n",
       "       '109', '10_', '10am', '10ft', '10ish', '10k', '10lines'],\n",
       "      dtype=object)"
      ]
     },
     "execution_count": 5,
     "metadata": {},
     "output_type": "execute_result"
    }
   ],
   "source": [
    "Docs = D['data']\n",
    "y = D['target']\n",
    "len(Docs)\n",
    "np.unique(y)\n",
    "\n",
    "tfidf = TfidfVectorizer().fit(Docs)\n",
    "voc = tfidf.get_feature_names_out()\n",
    "type(voc)\n",
    "voc[:100]"
   ]
  }
 ],
 "metadata": {
  "kernelspec": {
   "display_name": "Python 3",
   "language": "python",
   "name": "python3"
  },
  "language_info": {
   "codemirror_mode": {
    "name": "ipython",
    "version": 3
   },
   "file_extension": ".py",
   "mimetype": "text/x-python",
   "name": "python",
   "nbconvert_exporter": "python",
   "pygments_lexer": "ipython3",
   "version": "3.11.5"
  }
 },
 "nbformat": 4,
 "nbformat_minor": 2
}
