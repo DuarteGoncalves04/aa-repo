{
 "cells": [
  {
   "cell_type": "code",
   "execution_count": 1,
   "metadata": {},
   "outputs": [
    {
     "ename": "NameError",
     "evalue": "name 'X1' is not defined",
     "output_type": "error",
     "traceback": [
      "\u001b[1;31m---------------------------------------------------------------------------\u001b[0m",
      "\u001b[1;31mNameError\u001b[0m                                 Traceback (most recent call last)",
      "\u001b[1;32mc:\\Users\\duart\\OneDrive - Instituto Superior de Engenharia de Lisboa\\UCs\\AA\\Aulas\\aula10.ipynb Cell 1\u001b[0m line \u001b[0;36m3\n\u001b[0;32m      <a href='vscode-notebook-cell:/c%3A/Users/duart/OneDrive%20-%20Instituto%20Superior%20de%20Engenharia%20de%20Lisboa/UCs/AA/Aulas/aula10.ipynb#W0sZmlsZQ%3D%3D?line=0'>1</a>\u001b[0m \u001b[39mfrom\u001b[39;00m \u001b[39msklearn\u001b[39;00m\u001b[39m.\u001b[39;00m\u001b[39mlinear_model\u001b[39;00m \u001b[39mimport\u001b[39;00m LogisticRegression\n\u001b[0;32m      <a href='vscode-notebook-cell:/c%3A/Users/duart/OneDrive%20-%20Instituto%20Superior%20de%20Engenharia%20de%20Lisboa/UCs/AA/Aulas/aula10.ipynb#W0sZmlsZQ%3D%3D?line=1'>2</a>\u001b[0m dl \u001b[39m=\u001b[39m LogisticRegression(max_iter\u001b[39m=\u001b[39m\u001b[39m10000\u001b[39m)\n\u001b[1;32m----> <a href='vscode-notebook-cell:/c%3A/Users/duart/OneDrive%20-%20Instituto%20Superior%20de%20Engenharia%20de%20Lisboa/UCs/AA/Aulas/aula10.ipynb#W0sZmlsZQ%3D%3D?line=2'>3</a>\u001b[0m dl\u001b[39m.\u001b[39mfit(X1,y1)\n\u001b[0;32m      <a href='vscode-notebook-cell:/c%3A/Users/duart/OneDrive%20-%20Instituto%20Superior%20de%20Engenharia%20de%20Lisboa/UCs/AA/Aulas/aula10.ipynb#W0sZmlsZQ%3D%3D?line=3'>4</a>\u001b[0m y2e \u001b[39m=\u001b[39m dl\u001b[39m.\u001b[39mpredict(X2)\n\u001b[0;32m      <a href='vscode-notebook-cell:/c%3A/Users/duart/OneDrive%20-%20Instituto%20Superior%20de%20Engenharia%20de%20Lisboa/UCs/AA/Aulas/aula10.ipynb#W0sZmlsZQ%3D%3D?line=4'>5</a>\u001b[0m confusion_matrix(y2,y2e)\n",
      "\u001b[1;31mNameError\u001b[0m: name 'X1' is not defined"
     ]
    }
   ],
   "source": [
    "\n",
    "from sklearn.linear_model import LogisticRegression\n",
    "dl = LogisticRegression(max_iter=10000)\n",
    "dl.fit(X1,y1)\n",
    "y2e = dl.predict(X2)\n",
    "confusion_matrix(y2,y2e)\n",
    "X2.shape()"
   ]
  }
 ],
 "metadata": {
  "kernelspec": {
   "display_name": "Python 3",
   "language": "python",
   "name": "python3"
  },
  "language_info": {
   "codemirror_mode": {
    "name": "ipython",
    "version": 3
   },
   "file_extension": ".py",
   "mimetype": "text/x-python",
   "name": "python",
   "nbconvert_exporter": "python",
   "pygments_lexer": "ipython3",
   "version": "3.11.2"
  }
 },
 "nbformat": 4,
 "nbformat_minor": 2
}
