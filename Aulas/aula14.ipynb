{
 "cells": [
  {
   "cell_type": "code",
   "execution_count": 1,
   "metadata": {},
   "outputs": [],
   "source": [
    "import numpy as np\n",
    "import matplotlib.pyplot as plt\n",
    "from sklearn.feature_extraction.text import CountVectorizer"
   ]
  },
  {
   "cell_type": "code",
   "execution_count": 2,
   "metadata": {},
   "outputs": [],
   "source": [
    "cL = ['Life isnt\\t easy',\n",
    "      'for the Pin Cushion Queen.',\n",
    "      'When she sits on her thorne',\n",
    "      'pins push through her spleen.']"
   ]
  },
  {
   "cell_type": "code",
   "execution_count": 4,
   "metadata": {},
   "outputs": [],
   "source": [
    "cv = CountVectorizer().fit(cL)\n",
    "a = cv.vocabulary_"
   ]
  },
  {
   "cell_type": "code",
   "execution_count": 21,
   "metadata": {},
   "outputs": [
    {
     "name": "stdout",
     "output_type": "stream",
     "text": [
      "[[0 1 0 0 1 1 0 0 0 0 0 0 0 0 0 0 0 0]\n",
      " [1 0 1 0 0 0 0 1 0 0 1 0 0 0 1 0 0 0]\n",
      " [0 0 0 1 0 0 1 0 0 0 0 1 1 0 0 1 0 1]\n",
      " [0 0 0 1 0 0 0 0 1 1 0 0 0 1 0 0 1 0]]\n",
      "['cushion' 'easy' 'for' 'her' 'isnt' 'life' 'on' 'pin' 'pins' 'push'\n",
      " 'queen' 'she' 'sits' 'spleen' 'the' 'thorne' 'through' 'when']\n",
      "{'life': 5, 'isnt': 4, 'easy': 1, 'for': 2, 'the': 14, 'pin': 7, 'cushion': 0, 'queen': 10, 'when': 17, 'she': 11, 'sits': 12, 'on': 6, 'her': 3, 'thorne': 15, 'pins': 8, 'push': 9, 'through': 16, 'spleen': 13}\n"
     ]
    }
   ],
   "source": [
    "v = cv.transform(cL)\n",
    "print(v.toarray())\n",
    "v = cv.get_feature_names_out()\n",
    "print(v)\n",
    "vD = cv.vocabulary_ \n",
    "print(vD)"
   ]
  },
  {
   "cell_type": "code",
   "execution_count": 23,
   "metadata": {},
   "outputs": [],
   "source": [
    "voc = vD.keys()\n",
    "n = vD.values()\n"
   ]
  },
  {
   "cell_type": "code",
   "execution_count": 24,
   "metadata": {},
   "outputs": [
    {
     "name": "stdout",
     "output_type": "stream",
     "text": [
      "cushion 0\n",
      "easy 1\n",
      "for 2\n",
      "her 3\n",
      "isnt 4\n",
      "life 5\n",
      "on 6\n",
      "pin 7\n",
      "pins 8\n",
      "push 9\n",
      "queen 10\n",
      "she 11\n",
      "sits 12\n",
      "spleen 13\n",
      "the 14\n",
      "thorne 15\n",
      "through 16\n",
      "when 17\n"
     ]
    }
   ],
   "source": [
    "for i in range(len(v)):\n",
    "    print(v[i], vD[v[i]])"
   ]
  }
 ],
 "metadata": {
  "kernelspec": {
   "display_name": "Python 3",
   "language": "python",
   "name": "python3"
  },
  "language_info": {
   "codemirror_mode": {
    "name": "ipython",
    "version": 3
   },
   "file_extension": ".py",
   "mimetype": "text/x-python",
   "name": "python",
   "nbconvert_exporter": "python",
   "pygments_lexer": "ipython3",
   "version": "3.11.2"
  }
 },
 "nbformat": 4,
 "nbformat_minor": 2
}
