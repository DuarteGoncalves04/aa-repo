{
 "cells": [
  {
   "cell_type": "code",
   "execution_count": 2,
   "metadata": {},
   "outputs": [],
   "source": [
    "import numpy as np\n",
    "import matplotlib.pyplot as plt\n",
    "from sklearn.feature_extraction.text import CountVectorizer"
   ]
  },
  {
   "cell_type": "code",
   "execution_count": 3,
   "metadata": {},
   "outputs": [],
   "source": [
    "corpus = ['Se uma gaivota viesse' ,\n",
    "'Trazer-me o céu de lisboa' ,\n",
    "'No desenho que fizesse' ,\n",
    "'Nesse céu onde o olhar' ,\n",
    "'E uma asa que não voa' ,\n",
    "'Esmorece e cai no mar' ,\n",
    "'Que perfeito coração' ,\n",
    "'No meu peito bateria' ,\n",
    "'Meu amor na tua mão' ,\n",
    "'Nessa mão onde cabia' ,\n",
    "'Perfeito o meu coração']"
   ]
  },
  {
   "cell_type": "code",
   "execution_count": 4,
   "metadata": {},
   "outputs": [
    {
     "name": "stdout",
     "output_type": "stream",
     "text": [
      "33\n",
      "{'se': 27, 'uma': 30, 'gaivota': 11, 'viesse': 31, 'trazer': 28, 'me': 14, 'céu': 6, 'de': 7, 'lisboa': 12, 'no': 20, 'desenho': 8, 'que': 26, 'fizesse': 10, 'nesse': 19, 'onde': 23, 'olhar': 22, 'asa': 1, 'não': 21, 'voa': 32, 'esmorece': 9, 'cai': 4, 'mar': 13, 'perfeito': 25, 'coração': 5, 'meu': 15, 'peito': 24, 'bateria': 2, 'amor': 0, 'na': 17, 'tua': 29, 'mão': 16, 'nessa': 18, 'cabia': 3}\n"
     ]
    }
   ],
   "source": [
    "cv = CountVectorizer().fit(corpus)\n",
    "vob = cv.vocabulary_\n",
    "print(len(vob))\n",
    "print(vob) "
   ]
  },
  {
   "cell_type": "code",
   "execution_count": 5,
   "metadata": {},
   "outputs": [
    {
     "name": "stdout",
     "output_type": "stream",
     "text": [
      "{0: 'amor', 1: 'asa', 2: 'bateria', 3: 'cabia', 4: 'cai', 5: 'coração', 6: 'céu', 7: 'de', 8: 'desenho', 9: 'esmorece', 10: 'fizesse', 11: 'gaivota', 12: 'lisboa', 13: 'mar', 14: 'me', 15: 'meu', 16: 'mão', 17: 'na', 18: 'nessa', 19: 'nesse', 20: 'no', 21: 'não', 22: 'olhar', 23: 'onde', 24: 'peito', 25: 'perfeito', 26: 'que', 27: 'se', 28: 'trazer', 29: 'tua', 30: 'uma', 31: 'viesse', 32: 'voa'}\n"
     ]
    }
   ],
   "source": [
    "#cv.get_feature_names_out() #Orderna o vocabulário\n",
    "vob = {k:v for k,v in sorted(vob.items(), key=lambda item: item[1])}\n",
    "vob2 = {value:key for key,value in vob.items()}\n",
    "print(vob2)"
   ]
  },
  {
   "cell_type": "code",
   "execution_count": 6,
   "metadata": {},
   "outputs": [
    {
     "name": "stdout",
     "output_type": "stream",
     "text": [
      "[[0 0 0 0 0 0 0 0 0 0 0 1 0 0 0 0 0 0 0 0 0 0 0 0 0 0 0 1 0 0 1 1 0]\n",
      " [0 0 0 0 0 0 1 1 0 0 0 0 1 0 1 0 0 0 0 0 0 0 0 0 0 0 0 0 1 0 0 0 0]\n",
      " [0 0 0 0 0 0 0 0 1 0 1 0 0 0 0 0 0 0 0 0 1 0 0 0 0 0 1 0 0 0 0 0 0]\n",
      " [0 0 0 0 0 0 1 0 0 0 0 0 0 0 0 0 0 0 0 1 0 0 1 1 0 0 0 0 0 0 0 0 0]\n",
      " [0 1 0 0 0 0 0 0 0 0 0 0 0 0 0 0 0 0 0 0 0 1 0 0 0 0 1 0 0 0 1 0 1]\n",
      " [0 0 0 0 1 0 0 0 0 1 0 0 0 1 0 0 0 0 0 0 1 0 0 0 0 0 0 0 0 0 0 0 0]\n",
      " [0 0 0 0 0 1 0 0 0 0 0 0 0 0 0 0 0 0 0 0 0 0 0 0 0 1 1 0 0 0 0 0 0]\n",
      " [0 0 1 0 0 0 0 0 0 0 0 0 0 0 0 1 0 0 0 0 1 0 0 0 1 0 0 0 0 0 0 0 0]\n",
      " [1 0 0 0 0 0 0 0 0 0 0 0 0 0 0 1 1 1 0 0 0 0 0 0 0 0 0 0 0 1 0 0 0]\n",
      " [0 0 0 1 0 0 0 0 0 0 0 0 0 0 0 0 1 0 1 0 0 0 0 1 0 0 0 0 0 0 0 0 0]\n",
      " [0 0 0 0 0 1 0 0 0 0 0 0 0 0 0 1 0 0 0 0 0 0 0 0 0 1 0 0 0 0 0 0 0]]\n"
     ]
    }
   ],
   "source": [
    "X = cv.transform(corpus)\n",
    "#X #Matriz 11x33 (11 texto e 33 palavras)\n",
    "#print(X) #Apresenta os valroes de matriz diferentes de 0\n",
    "print(X.toarray()) #NÂO FAZER EM DADOS MUITO ELEVADOS \n",
    " "
   ]
  },
  {
   "cell_type": "code",
   "execution_count": 7,
   "metadata": {},
   "outputs": [
    {
     "name": "stdout",
     "output_type": "stream",
     "text": [
      "0 amor 1\n",
      "1 asa 1\n",
      "2 bateria 1\n",
      "3 cabia 1\n",
      "4 cai 1\n",
      "5 coração 2\n",
      "6 céu 2\n",
      "7 de 1\n",
      "8 desenho 1\n",
      "9 esmorece 1\n",
      "10 fizesse 1\n",
      "11 gaivota 1\n",
      "12 lisboa 1\n",
      "13 mar 1\n",
      "14 me 1\n",
      "15 meu 3\n",
      "16 mão 2\n",
      "17 na 1\n",
      "18 nessa 1\n",
      "19 nesse 1\n",
      "20 no 3\n",
      "21 não 1\n",
      "22 olhar 1\n",
      "23 onde 2\n",
      "24 peito 1\n",
      "25 perfeito 2\n",
      "26 que 3\n",
      "27 se 1\n",
      "28 trazer 1\n",
      "29 tua 1\n",
      "30 uma 2\n",
      "31 viesse 1\n",
      "32 voa 1\n"
     ]
    }
   ],
   "source": [
    "count = np.sum(X.toarray(), axis=0)\n",
    "count\n",
    "for i in range(X.toarray()[0].size):\n",
    "    print(i,vob2[i], count[i])"
   ]
  },
  {
   "cell_type": "markdown",
   "metadata": {},
   "source": [
    "## Representação tf-idf"
   ]
  },
  {
   "cell_type": "code",
   "execution_count": 8,
   "metadata": {},
   "outputs": [],
   "source": [
    "from sklearn.feature_extraction.text import TfidfVectorizer, TfidfTransformer, CountVectorizer"
   ]
  },
  {
   "cell_type": "code",
   "execution_count": 9,
   "metadata": {},
   "outputs": [
    {
     "name": "stdout",
     "output_type": "stream",
     "text": [
      "Se uma gaivota viesse\n",
      "Trazer-me o céu de lisboa\n",
      "No desenho que fizesse\n",
      "Nesse céu onde o olhar\n",
      "E uma asa que não voa\n",
      "Esmorece e cai no mar\n",
      "Que perfeito coração\n",
      "No meu peito bateria\n",
      "Meu amor na tua mão\n",
      "Nessa mão onde cabia\n",
      "Perfeito o meu coração\n"
     ]
    }
   ],
   "source": [
    "for v in corpus:\n",
    "    print(v)"
   ]
  },
  {
   "cell_type": "code",
   "execution_count": 10,
   "metadata": {},
   "outputs": [
    {
     "name": "stdout",
     "output_type": "stream",
     "text": [
      "[[0 0 0 0 0 0 0 0 0 0 0 1 0 0 0 0 0 0 0 0 0 0 0 0 0 0 0 1 0 0 1 1 0]\n",
      " [0 0 0 0 0 0 1 1 0 0 0 0 1 0 1 0 0 0 0 0 0 0 0 0 0 0 0 0 1 0 0 0 0]\n",
      " [0 0 0 0 0 0 0 0 1 0 1 0 0 0 0 0 0 0 0 0 1 0 0 0 0 0 1 0 0 0 0 0 0]\n",
      " [0 0 0 0 0 0 1 0 0 0 0 0 0 0 0 0 0 0 0 1 0 0 1 1 0 0 0 0 0 0 0 0 0]\n",
      " [0 1 0 0 0 0 0 0 0 0 0 0 0 0 0 0 0 0 0 0 0 1 0 0 0 0 1 0 0 0 1 0 1]\n",
      " [0 0 0 0 1 0 0 0 0 1 0 0 0 1 0 0 0 0 0 0 1 0 0 0 0 0 0 0 0 0 0 0 0]\n",
      " [0 0 0 0 0 1 0 0 0 0 0 0 0 0 0 0 0 0 0 0 0 0 0 0 0 1 1 0 0 0 0 0 0]\n",
      " [0 0 1 0 0 0 0 0 0 0 0 0 0 0 0 1 0 0 0 0 1 0 0 0 1 0 0 0 0 0 0 0 0]\n",
      " [1 0 0 0 0 0 0 0 0 0 0 0 0 0 0 1 1 1 0 0 0 0 0 0 0 0 0 0 0 1 0 0 0]\n",
      " [0 0 0 1 0 0 0 0 0 0 0 0 0 0 0 0 1 0 1 0 0 0 0 1 0 0 0 0 0 0 0 0 0]\n",
      " [0 0 0 0 0 1 0 0 0 0 0 0 0 0 0 1 0 0 0 0 0 0 0 0 0 1 0 0 0 0 0 0 0]]\n",
      "[[0. 0. 0. 0. 0. 0. 0. 0. 0. 0. 0. 1. 0. 0. 0. 0. 0. 0. 0. 0. 0. 0. 0. 0.\n",
      "  0. 0. 0. 1. 0. 0. 0. 1. 0.]\n",
      " [0. 0. 0. 0. 0. 0. 0. 0. 0. 0. 0. 0. 0. 0. 0. 0. 0. 0. 0. 0. 0. 0. 0. 0.\n",
      "  0. 0. 0. 0. 0. 0. 0. 0. 0.]\n",
      " [0. 0. 0. 0. 0. 0. 0. 0. 1. 0. 1. 0. 0. 0. 0. 0. 0. 0. 0. 0. 0. 0. 0. 0.\n",
      "  0. 0. 0. 0. 0. 0. 0. 0. 0.]\n",
      " [0. 0. 0. 0. 0. 0. 0. 0. 0. 0. 0. 0. 0. 0. 0. 0. 0. 0. 0. 1. 0. 0. 1. 0.\n",
      "  0. 0. 0. 0. 0. 0. 0. 0. 0.]\n",
      " [0. 0. 0. 0. 0. 0. 0. 0. 0. 0. 0. 0. 0. 0. 0. 0. 0. 0. 0. 0. 0. 0. 0. 0.\n",
      "  0. 0. 0. 0. 0. 0. 0. 0. 0.]\n",
      " [0. 0. 0. 0. 1. 0. 0. 0. 0. 1. 0. 0. 0. 1. 0. 0. 0. 0. 0. 0. 0. 0. 0. 0.\n",
      "  0. 0. 0. 0. 0. 0. 0. 0. 0.]\n",
      " [0. 0. 0. 0. 0. 1. 0. 0. 0. 0. 0. 0. 0. 0. 0. 0. 0. 0. 0. 0. 0. 0. 0. 0.\n",
      "  0. 1. 1. 0. 0. 0. 0. 0. 0.]\n",
      " [0. 0. 1. 0. 0. 0. 0. 0. 0. 0. 0. 0. 0. 0. 0. 0. 0. 0. 0. 0. 0. 0. 0. 0.\n",
      "  1. 0. 0. 0. 0. 0. 0. 0. 0.]\n",
      " [0. 0. 0. 0. 0. 0. 0. 0. 0. 0. 0. 0. 0. 0. 0. 0. 0. 0. 0. 0. 0. 0. 0. 0.\n",
      "  0. 0. 0. 0. 0. 0. 0. 0. 0.]\n",
      " [0. 0. 0. 1. 0. 0. 0. 0. 0. 0. 0. 0. 0. 0. 0. 0. 0. 0. 1. 0. 0. 0. 0. 0.\n",
      "  0. 0. 0. 0. 0. 0. 0. 0. 0.]\n",
      " [0. 0. 0. 0. 0. 1. 0. 0. 0. 0. 0. 0. 0. 0. 0. 1. 0. 0. 0. 0. 0. 0. 0. 0.\n",
      "  0. 1. 0. 0. 0. 0. 0. 0. 0.]]\n"
     ]
    }
   ],
   "source": [
    "cv = CountVectorizer().fit(corpus)\n",
    "X = cv.transform(corpus)\n",
    "tfidf = TfidfTransformer().fit(X)\n",
    "X2 = tfidf.transform(X).toarray()\n",
    "\n",
    "print(X.toarray())\n",
    "print(np.round(X2))"
   ]
  },
  {
   "cell_type": "code",
   "execution_count": 11,
   "metadata": {},
   "outputs": [],
   "source": [
    "np.sum(X2**2, axis=1)\n",
    "tfidf = TfidfVectorizer().fit(corpus)\n",
    "X3 = tfidf.transform(corpus).toarray()"
   ]
  },
  {
   "cell_type": "code",
   "execution_count": 12,
   "metadata": {},
   "outputs": [
    {
     "name": "stdout",
     "output_type": "stream",
     "text": [
      "[[0.         0.         0.         0.         0.        ]\n",
      " [0.         0.         0.         0.         0.        ]\n",
      " [0.         0.         0.         0.         0.        ]\n",
      " [0.         0.         0.         0.         0.        ]\n",
      " [0.         0.48248419 0.         0.         0.        ]\n",
      " [0.         0.         0.         0.         0.52962134]\n",
      " [0.         0.         0.         0.         0.        ]\n",
      " [0.         0.         0.56521933 0.         0.        ]\n",
      " [0.48248419 0.         0.         0.         0.        ]\n",
      " [0.         0.         0.         0.5375069  0.        ]\n",
      " [0.         0.         0.         0.         0.        ]]\n"
     ]
    }
   ],
   "source": [
    "print(X2[:,:5])"
   ]
  },
  {
   "cell_type": "markdown",
   "metadata": {},
   "source": [
    "## Base de Dados IMDB"
   ]
  },
  {
   "cell_type": "code",
   "execution_count": 13,
   "metadata": {},
   "outputs": [],
   "source": [
    "from sklearn.datasets import load_files\n",
    "import re\n",
    "D = load_files('aclImdb/train/')\n",
    "D.keys()\n",
    "Docs = D.data\n",
    "y = D.target"
   ]
  },
  {
   "cell_type": "code",
   "execution_count": 14,
   "metadata": {},
   "outputs": [
    {
     "name": "stdout",
     "output_type": "stream",
     "text": [
      "74849\n"
     ]
    }
   ],
   "source": [
    "tfidf = TfidfVectorizer().fit(Docs)\n",
    "tokens = tfidf.get_feature_names_out()\n",
    "print(len(tokens))"
   ]
  },
  {
   "cell_type": "code",
   "execution_count": 15,
   "metadata": {},
   "outputs": [
    {
     "name": "stdout",
     "output_type": "stream",
     "text": [
      "35853\n",
      "['00' '000' '001' ... 'zwick' 'émigré' 'über']\n"
     ]
    }
   ],
   "source": [
    "#Queres palavras em pelo menos 3 documentos\n",
    "tfidf = TfidfVectorizer(min_df=3).fit(Docs)\n",
    "tokens = tfidf.get_feature_names_out()\n",
    "print(len(tokens))\n",
    "print(tokens[:41000])"
   ]
  },
  {
   "cell_type": "markdown",
   "metadata": {},
   "source": [
    "### Limpeza dos textos"
   ]
  },
  {
   "cell_type": "code",
   "execution_count": 16,
   "metadata": {},
   "outputs": [],
   "source": [
    "#Limpar textos tirando todos os caracteres especiais\n",
    "Docs = [doc.decode('UTF-8') for doc in Docs]\n",
    "Docs = [doc.replace('<br />', ' ') for doc in Docs]\n",
    "Docs = [re.sub(r'[^a-zA-Z\\u00C0-\\u00FF]+', ' ', doc) for doc in Docs]"
   ]
  },
  {
   "cell_type": "code",
   "execution_count": 17,
   "metadata": {},
   "outputs": [
    {
     "name": "stdout",
     "output_type": "stream",
     "text": [
      "25871\n"
     ]
    }
   ],
   "source": [
    "tfidf = TfidfVectorizer(min_df=5, token_pattern=r'\\b\\w\\w\\w\\w+\\b').fit(Docs)\n",
    "tokens = tfidf.get_feature_names_out()\n",
    "print(len(tokens))"
   ]
  },
  {
   "cell_type": "code",
   "execution_count": 18,
   "metadata": {},
   "outputs": [
    {
     "data": {
      "text/plain": [
       "array(['aames', 'aamir', 'aankhen', 'aardman', 'aaron', 'aback',\n",
       "       'abandon', 'abandoned', 'abandoning', 'abandonment', 'abandons',\n",
       "       'abbas', 'abbey', 'abbot', 'abbott', 'abbreviated', 'abby',\n",
       "       'abduct', 'abducted', 'abduction', 'abel', 'abetted', 'abhay',\n",
       "       'abhishek', 'abhorrent', 'abiding', 'abigail', 'abilities',\n",
       "       'ability', 'abject', 'able', 'ably', 'abnormal', 'aboard', 'abode',\n",
       "       'abominable', 'abomination', 'abominations', 'aboriginal',\n",
       "       'aborigine', 'aborigines', 'aborted', 'abortion', 'abortions',\n",
       "       'abound', 'abounds', 'about', 'above', 'abraham', 'abrahams',\n",
       "       'abrasive', 'abridged', 'abroad', 'abrupt', 'abruptly', 'absence',\n",
       "       'absent', 'absentee', 'absolute', 'absolutely', 'absolution',\n",
       "       'absolutly', 'absorb', 'absorbed', 'absorbing', 'absorbs',\n",
       "       'absorption', 'abstract', 'abstractions', 'absurd', 'absurdist',\n",
       "       'absurdities', 'absurdity', 'absurdly', 'absurdness', 'abundance',\n",
       "       'abundant', 'abundantly', 'abuse', 'abused', 'abuser', 'abuses',\n",
       "       'abusing', 'abusive', 'abysmal', 'abysmally', 'abyss', 'academic',\n",
       "       'academy', 'accelerated', 'accent', 'accented', 'accents',\n",
       "       'accentuate', 'accentuated', 'accentuates', 'accept', 'acceptable',\n",
       "       'acceptance', 'accepted'], dtype=object)"
      ]
     },
     "execution_count": 18,
     "metadata": {},
     "output_type": "execute_result"
    }
   ],
   "source": [
    "tokens[:100]"
   ]
  },
  {
   "cell_type": "markdown",
   "metadata": {},
   "source": [
    "### Stemmers"
   ]
  },
  {
   "cell_type": "code",
   "execution_count": 19,
   "metadata": {},
   "outputs": [],
   "source": [
    "from nltk.stem import PorterStemmer,SnowballStemmer, LancasterStemmer\n",
    "stemFunc = PorterStemmer()\n",
    "voc = tfidf.get_feature_names_out()\n",
    "voc2 = [stemFunc.stem(w) for w in voc]\n"
   ]
  },
  {
   "cell_type": "code",
   "execution_count": 20,
   "metadata": {},
   "outputs": [
    {
     "name": "stdout",
     "output_type": "stream",
     "text": [
      "['word can t describ how bad thi movi is i can t explain it by write onli you have too see it for yourself to get at grip of how horribl a movi realli can be not that i recommend you to do that there are so mani cliché mistak and all other neg thing you can imagin here that will just make you cri to start with the technic first there are a lot of mistak regard the airplan i won t list them here but just mention the color of the plane they didn t even manag to show an airlin in the color of a fiction airlin but instead use a paint in the origin boe liveri veri bad the plot is stupid and ha been done mani time befor onli much much better there are so mani ridicul moment here that i lost count of it realli earli also i wa on the bad guy side all the time in the movi becaus the good guy were so stupid execut decis should without a doubt be you re choic over thi one even the turbul movi are better in fact everi other movi in the world is better than thi one']\n"
     ]
    }
   ],
   "source": [
    "#Exemplo de stemming\n",
    "doc = Docs[1]\n",
    "doc2=[' '.join(stemFunc.stem(w) for w in doc.split())]\n",
    "print(doc2)"
   ]
  },
  {
   "cell_type": "code",
   "execution_count": 21,
   "metadata": {},
   "outputs": [
    {
     "name": "stdout",
     "output_type": "stream",
     "text": [
      "22074\n"
     ]
    }
   ],
   "source": [
    "#Fazer stem de todos os documentos\n",
    "#PorterStemmer\n",
    "stemFunc = PorterStemmer()\n",
    "Docs2 = [' '.join(stemFunc.stem(w) for w in doc.split()) for doc in Docs]\n",
    "tfidf = TfidfVectorizer(min_df=3, token_pattern=r'\\b\\w\\w\\w\\w+\\b').fit(Docs2)\n",
    "tokens = tfidf.get_feature_names_out()\n",
    "print(len(tokens))"
   ]
  },
  {
   "cell_type": "code",
   "execution_count": 22,
   "metadata": {},
   "outputs": [
    {
     "name": "stdout",
     "output_type": "stream",
     "text": [
      "22074\n"
     ]
    }
   ],
   "source": [
    "stemFunc = SnowballStemmer('english')\n",
    "Docs2 = [' '.join(stemFunc.stem(w) for w in doc.split()) for doc in Docs]\n",
    "tfidf2 = TfidfVectorizer(min_df=3, token_pattern=r'\\b\\w\\w\\w\\w+\\b').fit(Docs2)\n",
    "tokens2 = tfidf.get_feature_names_out()\n",
    "print(len(tokens2))"
   ]
  },
  {
   "cell_type": "code",
   "execution_count": 23,
   "metadata": {},
   "outputs": [
    {
     "name": "stdout",
     "output_type": "stream",
     "text": [
      "22074\n"
     ]
    }
   ],
   "source": [
    "stemFunc = LancasterStemmer()\n",
    "Docs2 = [' '.join(stemFunc.stem(w) for w in doc.split()) for doc in Docs]\n",
    "tfidf3 = TfidfVectorizer(min_df=3, token_pattern=r'\\b\\w\\w\\w\\w+\\b').fit(Docs2)\n",
    "tokens3 = tfidf.get_feature_names_out()\n",
    "print(len(tokens3))"
   ]
  },
  {
   "cell_type": "markdown",
   "metadata": {},
   "source": [
    "### Representação tf-idf"
   ]
  },
  {
   "cell_type": "code",
   "execution_count": 24,
   "metadata": {},
   "outputs": [
    {
     "name": "stdout",
     "output_type": "stream",
     "text": [
      "(25000, 17151) <class 'scipy.sparse._csr.csr_matrix'>\n"
     ]
    }
   ],
   "source": [
    "X = tfidf3.transform(Docs2)\n",
    "print(X.shape,type(X))"
   ]
  },
  {
   "cell_type": "code",
   "execution_count": 25,
   "metadata": {},
   "outputs": [
    {
     "name": "stdout",
     "output_type": "stream",
     "text": [
      "['loni', 'comfi', 'clees', 'muffl', 'cover', 'hesit', 'harvey', 'schill', 'mould', 'marth', 'clio', 'penal', 'grant', 'orloff', 'chock', 'cartooni', 'seamless', 'dwarf', 'italo', 'give', 'panavis', 'berri', 'clau', 'dungeon', 'cline', 'casanova', 'scholarship', 'plum', 'jeani', 'intermitt', 'impass', 'blender', 'massachusett', 'batista', 'creat', 'babi', 'nazi', 'harbor', 'eiffel', 'pitfal', 'clayton', 'faction', 'avidli', 'dutch', 'cours', 'arcan', 'bureau', 'motorboat', 'gover', 'botch', 'evanesc', 'expositori', 'committ', 'goop', 'sedgwick', 'darkheart', 'alba', 'hardwar', 'exorc', 'granni', 'sate', 'mcnalli', 'endang', 'eastend', 'offer', 'blacula', 'killearn', 'exasper', 'educ', 'mulgrew', 'mitt', 'netherworld', 'innermost', 'mortgag', 'fewer', 'bullsh', 'juxtaposit', 'kirbi', 'intellig', 'barter', 'ambassador', 'carney', 'brine', 'seductress', 'cosmic', 'barney', 'overenthusiast', 'focus', 'eichmann', 'indirect', 'mandel', 'sagan', 'authent', 'sculptur', 'larrazab', 'electro', 'pump', 'biolog', 'greenquist', 'letdown']\n"
     ]
    }
   ],
   "source": [
    "xM=np.max(X,axis=0).toarray().squeeze()\n",
    "idx=np.argsort(-xM)\n",
    "voc = [tokens3[i] for i in idx]\n",
    "print(voc[:100])"
   ]
  },
  {
   "cell_type": "code",
   "execution_count": 26,
   "metadata": {},
   "outputs": [
    {
     "name": "stdout",
     "output_type": "stream",
     "text": [
      "['that', 'with', 'movi', 'film', 'have', 'like', 'from', 'they', 'there', 'just', 'about', 'time', 'what', 'good', 'make', 'some', 'watch', 'more', 'when', 'veri', 'even', 'onli', 'charact', 'would', 'stori', 'realli', 'well', 'which', 'other', 'than', 'much', 'their', 'look', 'were', 'been', 'scene', 'most', 'will', 'also', 'think', 'first', 'into', 'great', 'made', 'peopl', 'becaus', 'thing', 'could', 'love', 'after', 'play', 'then', 'them', 'know', 'show', 'seen', 'come', 'plot', 'work', 'seem', 'actor', 'take', 'want', 'year', 'mani', 'never', 'best', 'littl', 'ever', 'over', 'where', 'give', 'better', 'life', 'still', 'here', 'your', 'find', 'these', 'someth', 'while', 'should', 'back', 'perform', 'such', 'feel', 'part', 'through', 'actual', 'director', 'interest', 'those', 'cast', 'real', 'doesn', 'anoth', 'befor', 'though', 'enjoy', 'didn']\n"
     ]
    }
   ],
   "source": [
    "idf = tfidf.idf_\n",
    "idx = np.argsort(idf)\n",
    "voc = [tokens[i] for i in idx]\n",
    "print(voc[:100])"
   ]
  },
  {
   "cell_type": "markdown",
   "metadata": {},
   "source": [
    "## Análise dos Coeficientes dum Discriminante Logístico"
   ]
  },
  {
   "cell_type": "code",
   "execution_count": 27,
   "metadata": {},
   "outputs": [],
   "source": [
    "import numpy as np\n",
    "from sklearn.datasets import load_files\n",
    "from sklearn.feature_extraction.text import TfidfVectorizer\n",
    "import re\n",
    "from nltk.stem import SnowballStemmer\n",
    "\n",
    "D = load_files('aclImdb/train/')\n",
    "Docs1 = D.data\n",
    "y1 = D.target\n",
    "\n",
    "D = load_files('aclImdb/test/')\n",
    "Docs2 = D.data\n",
    "y2 = D.target\n",
    "\n",
    "Docs1 = [doc.decode('UTF-8') for doc in Docs1]\n",
    "Docs1 = [doc.replace('<br />', ' ') for doc in Docs1]\n",
    "Docs1 = [re.sub(r'[^a-zA-Z\\u00C0-\\u00FF]+', ' ', doc) for doc in Docs1]\n",
    "tfidf = TfidfVectorizer(min_df=5, token_pattern=r'\\b\\w\\w\\w\\w+\\b').fit(Docs1)\n",
    "X1 = tfidf.transform(Docs1)\n",
    "\n",
    "Docs2 = [doc.decode('UTF-8') for doc in Docs2]\n",
    "Docs2 = [doc.replace('<br />', ' ') for doc in Docs2]\n",
    "Docs2 = [re.sub(r'[^a-zA-Z\\u00C0-\\u00FF]+', ' ', doc) for doc in Docs2]\n",
    "X2 = tfidf.transform(Docs2)"
   ]
  },
  {
   "cell_type": "code",
   "execution_count": 29,
   "metadata": {},
   "outputs": [
    {
     "data": {
      "text/plain": [
       "(25000, 25871)"
      ]
     },
     "execution_count": 29,
     "metadata": {},
     "output_type": "execute_result"
    }
   ],
   "source": [
    "X2.shape"
   ]
  },
  {
   "cell_type": "markdown",
   "metadata": {},
   "source": [
    "### Ridge"
   ]
  },
  {
   "cell_type": "code",
   "execution_count": 30,
   "metadata": {},
   "outputs": [
    {
     "name": "stdout",
     "output_type": "stream",
     "text": [
      "0.93248\n",
      "0.87968\n"
     ]
    }
   ],
   "source": [
    "from sklearn.linear_model import LogisticRegression\n",
    "\n",
    "dl = LogisticRegression(penalty='l2',max_iter=1000, C=1, tol=1e-3)\n",
    "dl.fit(X1,y1)\n",
    "print(dl.score(X1,y1))\n",
    "print(dl.score(X2,y2))"
   ]
  },
  {
   "cell_type": "code",
   "execution_count": 31,
   "metadata": {},
   "outputs": [
    {
     "name": "stdout",
     "output_type": "stream",
     "text": [
      "['worst', 'awful', 'waste', 'boring', 'poor', 'worse', 'terrible', 'nothing', 'poorly', 'horrible', 'dull', 'unfortunately', 'script', 'annoying', 'stupid', 'ridiculous', 'disappointment', 'fails', 'supposed', 'disappointing', 'avoid', 'minutes', 'instead', 'mess', 'badly', 'even', 'lame', 'save', 'pointless', 'unless', 'lacks', 'just', 'weak', 'money', 'crap', 'predictable', 'attempt', 'laughable', 'wonder', 'reason', 'plot', 'only', 'looks', 'unfunny', 'idea', 'couldn', 'pathetic', 'wasted', 'tries', 'mediocre']\n",
      "\n",
      " ---------------------------------------------------------------------------------------------------- \n",
      "\n",
      "['surprised', 'recommended', 'subtle', 'beautifully', 'refreshing', 'moving', 'especially', 'masterpiece', 'unique', 'makes', 'will', 'shows', 'true', 'incredible', 'simple', 'classic', 'life', 'funniest', 'perfectly', 'heart', 'hilarious', 'entertaining', 'very', 'world', 'wonderfully', 'both', 'rare', 'enjoyable', 'enjoy', 'liked', 'also', 'still', 'definitely', 'fantastic', 'beautiful', 'highly', 'superb', 'brilliant', 'enjoyed', 'today', 'love', 'well', 'favorite', 'loved', 'amazing', 'wonderful', 'perfect', 'best', 'excellent', 'great']\n"
     ]
    }
   ],
   "source": [
    "w = dl.coef_\n",
    "idx = np.argsort(w).squeeze()\n",
    "voc = tfidf.get_feature_names_out()\n",
    "voc2=[voc[i] for i in idx]\n",
    "print(voc2[:50]) #50 palavras mais negativas\n",
    "print('\\n','-'*100,'\\n')\n",
    "print(voc2[-50:]) #50 palavras mais positivas"
   ]
  },
  {
   "cell_type": "code",
   "execution_count": 32,
   "metadata": {},
   "outputs": [
    {
     "name": "stdout",
     "output_type": "stream",
     "text": [
      "120\n"
     ]
    },
    {
     "data": {
      "image/png": "[encoded data removed]",
      "text/plain": [
       "<Figure size 640x480 with 1 Axes>"
      ]
     },
     "metadata": {},
     "output_type": "display_data"
    }
   ],
   "source": [
    "w = w.squeeze()\n",
    "plt.plot(w)\n",
    "print(np.sum(np.abs(w)<=1e-3))"
   ]
  },
  {
   "cell_type": "markdown",
   "metadata": {},
   "source": [
    "### Lasso"
   ]
  },
  {
   "cell_type": "code",
   "execution_count": 33,
   "metadata": {},
   "outputs": [
    {
     "name": "stdout",
     "output_type": "stream",
     "text": [
      "0.89836\n",
      "0.8728\n"
     ]
    }
   ],
   "source": [
    "from sklearn.linear_model import LogisticRegression\n",
    "\n",
    "dl = LogisticRegression(penalty='l1',solver='saga', max_iter=1000, C=1, tol=1e-3)\n",
    "dl.fit(X1,y1)\n",
    "print(dl.score(X1,y1))\n",
    "print(dl.score(X2,y2))"
   ]
  },
  {
   "cell_type": "code",
   "execution_count": 34,
   "metadata": {},
   "outputs": [
    {
     "name": "stdout",
     "output_type": "stream",
     "text": [
      "['worst', 'waste', 'awful', 'poorly', 'disappointment', 'boring', 'fails', 'dull', 'worse', 'pointless', 'horrible', 'mess', 'poor', 'disappointing', 'unfunny', 'terrible', 'lacks', 'avoid', 'laughable', 'annoying', 'badly', 'unfortunately', 'ridiculous', 'forgettable', 'nothing', 'save', 'redeeming', 'lame', 'wooden', 'supposed', 'unless', 'instead', 'lousy', 'script', 'mediocre', 'mildly', 'pathetic', 'weak', 'dreadful', 'wonder', 'insult', 'basically', 'baldwin', 'stupid', 'obnoxious', 'tedious', 'uninteresting', 'predictable', 'incoherent', 'minutes']\n",
      "\n",
      " ---------------------------------------------------------------------------------------------------- \n",
      "\n",
      "['atmosphere', 'surprised', 'heart', 'captures', 'powerful', 'fascinating', 'world', 'also', 'simple', 'delightful', 'enjoy', 'outstanding', 'still', 'masterpiece', 'unique', 'hilarious', 'love', 'entertaining', 'liked', 'surprisingly', 'moving', 'well', 'beautiful', 'touching', 'funniest', 'finest', 'beautifully', 'incredible', 'enjoyed', 'perfectly', 'definitely', 'noir', 'subtle', 'enjoyable', 'highly', 'loved', 'fantastic', 'today', 'brilliant', 'superb', 'favorite', 'rare', 'refreshing', 'best', 'amazing', 'wonderfully', 'wonderful', 'great', 'perfect', 'excellent']\n"
     ]
    }
   ],
   "source": [
    "w = dl.coef_\n",
    "idx = np.argsort(w).squeeze()\n",
    "voc = tfidf.get_feature_names_out()\n",
    "voc2=[voc[i] for i in idx]\n",
    "print(voc2[:50]) #50 palavras mais negativas\n",
    "print('\\n','-'*100,'\\n')\n",
    "print(voc2[-50:]) #50 palavras mais positivas"
   ]
  }
 ],
 "metadata": {
  "kernelspec": {
   "display_name": "Python 3",
   "language": "python",
   "name": "python3"
  },
  "language_info": {
   "codemirror_mode": {
    "name": "ipython",
    "version": 3
   },
   "file_extension": ".py",
   "mimetype": "text/x-python",
   "name": "python",
   "nbconvert_exporter": "python",
   "pygments_lexer": "ipython3",
   "version": "3.11.5"
  }
 },
 "nbformat": 4,
 "nbformat_minor": 2
}
