{
 "cells": [
  {
   "cell_type": "code",
   "execution_count": 1,
   "metadata": {},
   "outputs": [],
   "source": [
    "import numpy as np"
   ]
  },
  {
   "cell_type": "code",
   "execution_count": 2,
   "metadata": {},
   "outputs": [
    {
     "name": "stdout",
     "output_type": "stream",
     "text": [
      "uint8\n",
      "a= [1 3 5 2 4 6]\n",
      "a-5= [252 254   0 253 255   1]\n"
     ]
    }
   ],
   "source": [
    "a=np.array([1,3,5,2,4,6],np.uint8) \n",
    "print(a.dtype)        #cuidado com o tipo dos dados\n",
    "print('a=',a)\n",
    "print('a-5=',a-5)"
   ]
  },
  {
   "cell_type": "code",
   "execution_count": 7,
   "metadata": {},
   "outputs": [
    {
     "name": "stdout",
     "output_type": "stream",
     "text": [
      "float16\n",
      "(6,)\n"
     ]
    }
   ],
   "source": [
    "a=np.array([1,3,5,2,4,6],np.float16)\n",
    "print(a.dtype)\n",
    "print(a.shape)"
   ]
  },
  {
   "cell_type": "code",
   "execution_count": 8,
   "metadata": {},
   "outputs": [
    {
     "name": "stdout",
     "output_type": "stream",
     "text": [
      "(3, 2)\n",
      "[1. 3.]\n",
      "[1. 5. 4.]\n"
     ]
    }
   ],
   "source": [
    "a=a.reshape((3,2))    #modificar dimens�es \n",
    "print(a.shape)\n",
    "print(a[0,:])         #1� linha\n",
    "print(a[:,0])         #1� coluna"
   ]
  },
  {
   "cell_type": "code",
   "execution_count": 9,
   "metadata": {},
   "outputs": [
    {
     "name": "stdout",
     "output_type": "stream",
     "text": [
      "b= [[0. 0.]\n",
      " [5. 2.]\n",
      " [4. 6.]]\n"
     ]
    }
   ],
   "source": [
    "b=a\n",
    "a[0,0:2]=0            #2 primeiros elementos da 1� linha = 0 \n",
    "print('b=',b)          # modificar um, modifica o outro"
   ]
  },
  {
   "cell_type": "code",
   "execution_count": 10,
   "metadata": {},
   "outputs": [
    {
     "name": "stdout",
     "output_type": "stream",
     "text": [
      "a= [[ 0.  0.]\n",
      " [-1. -1.]\n",
      " [ 4.  6.]]\n",
      "b= [[0. 0.]\n",
      " [5. 2.]\n",
      " [4. 6.]]\n"
     ]
    }
   ],
   "source": [
    "b=a.copy()            # para copiar usar .copy()\n",
    "a[1,0:2]=-1\n",
    "print('a=',a)\n",
    "print('b=',b)"
   ]
  }
 ],
 "metadata": {
  "kernelspec": {
   "display_name": "Python 3",
   "language": "python",
   "name": "python3"
  },
  "language_info": {
   "codemirror_mode": {
    "name": "ipython",
    "version": 3
   },
   "file_extension": ".py",
   "mimetype": "text/x-python",
   "name": "python",
   "nbconvert_exporter": "python",
   "pygments_lexer": "ipython3",
   "version": "3.11.5"
  },
  "orig_nbformat": 4
 },
 "nbformat": 4,
 "nbformat_minor": 2
}
