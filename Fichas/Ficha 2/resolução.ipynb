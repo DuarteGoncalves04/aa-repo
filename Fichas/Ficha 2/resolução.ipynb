{
 "cells": [
  {
   "cell_type": "code",
   "execution_count": 2,
   "metadata": {},
   "outputs": [],
   "source": [
    "import matplotlib.pyplot as plt\n",
    "import numpy             as np\n",
    "import numpy.random      as rd\n",
    "import pickle            as p\n",
    "\n",
    "from scipy.linalg import sqrtm\n",
    "from numpy.linalg import pinv\n",
    "\n",
    "from sklearn.metrics   import confusion_matrix\n",
    "from sklearn.neighbors import KNeighborsClassifier"
   ]
  },
  {
   "cell_type": "markdown",
   "metadata": {},
   "source": [
    "# EXERCÍCIO 1"
   ]
  },
  {
   "cell_type": "code",
   "execution_count": 3,
   "metadata": {},
   "outputs": [
    {
     "name": "stdout",
     "output_type": "stream",
     "text": [
      "dict_keys(['trueClass', 'trueClassTrain', 'Xtrain', 'trueClassTest', 'Xtest'])\n"
     ]
    }
   ],
   "source": [
    "# Load do ficheiro\n",
    "Q1=p.load(open('A46484_Q001_data.p','rb'))\n",
    "print(Q1.keys())\n",
    "\n",
    "# Obtenção das classes\n",
    "y1     = Q1['trueClassTrain']\n",
    "y2     = Q1['trueClassTest']\n",
    "Xtrain = Q1['Xtrain']\n",
    "Xtest  = Q1['Xtest']\n",
    "\n",
    "# Ordenar (o desempate nos neighbors está relacionado com a primeira classe, importa, para ser escolhida a\n",
    "# classe mais baixa, estarem ordenadas)\n",
    "idx1     = np.argsort(y1)\n",
    "y1       = y1[idx1]\n",
    "Xtrain   = Xtrain[:,idx1]\n",
    "\n",
    "idx2     = np.argsort(y2)\n",
    "y2       = y2[idx2]\n",
    "Xtest    = Xtest[:,idx2]\n"
   ]
  },
  {
   "cell_type": "code",
   "execution_count": 4,
   "metadata": {},
   "outputs": [
    {
     "name": "stdout",
     "output_type": "stream",
     "text": [
      "Matriz de Confusão \n",
      " [[188   5   0   2   7]\n",
      " [  0 200   0   0   2]\n",
      " [  0   0 146   0   0]\n",
      " [  1   3   0 177   8]\n",
      " [  4  32   0   5 197]]\n"
     ]
    }
   ],
   "source": [
    "def metricaDist(x,y):\n",
    "    dif = (x-y)\n",
    "    m = np.asarray([[1,-2],[1,1]])\n",
    "    return np.dot(np.dot(dif.T,m),dif)\n",
    "\n",
    "k = 13\n",
    "knn = KNeighborsClassifier(n_neighbors=k,metric=metricaDist).fit(Xtrain.T,y1)\n",
    "y2e  = knn.predict(Xtest.T)\n",
    "\n",
    "MC = confusion_matrix(y2,y2e)\n",
    "print('Matriz de Confusão \\n', MC)\n",
    "\n",
    "# Colunas > Classes estimadas   0, 1, 2, 3 e 4\n",
    "#  Linhas > Classes verdadeiras 0, 1, 2, 3 e 4\n",
    "# C:: Classe Verdadeira\n",
    "# E:: Classe Estimada\n",
    "\n",
    "# Corretos\n",
    "C0E0 = MC[0,0]\n",
    "C1E1 = MC[1,1]\n",
    "C2E2 = MC[2,2]\n",
    "C3E3 = MC[3,3]\n",
    "C4E4 = MC[4,4]\n",
    "\n",
    "# Erros\n",
    "C0E1 = MC[0,1]\n",
    "C0E2 = MC[0,2]\n",
    "C0E3 = MC[0,3]\n",
    "C0E4 = MC[0,4]\n",
    "\n",
    "C1E0 = MC[1,0]\n",
    "C1E2 = MC[1,2]\n",
    "C1E3 = MC[1,3]\n",
    "C1E4 = MC[1,4]\n",
    "\n",
    "C2E0 = MC[2,0]\n",
    "C2E1 = MC[2,1]\n",
    "C2E3 = MC[2,3]\n",
    "C2E4 = MC[2,4]\n",
    "\n",
    "C3E0 = MC[3,0]\n",
    "C3E1 = MC[3,1]\n",
    "C3E2 = MC[3,2]\n",
    "C3E4 = MC[3,4]\n",
    "\n",
    "C4E0 = MC[4,0]\n",
    "C4E1 = MC[4,1]\n",
    "C4E2 = MC[4,2]\n",
    "C4E3 = MC[4,3]"
   ]
  },
  {
   "cell_type": "code",
   "execution_count": 5,
   "metadata": {},
   "outputs": [
    {
     "name": "stdout",
     "output_type": "stream",
     "text": [
      "i) O numero de pontos da classe w2 classificados na classe w2 é 146:  146\n",
      "ii) O numero de pontos da classe w4 classificados na classe w3 e 17:  5\n"
     ]
    }
   ],
   "source": [
    "#A)\n",
    "print(\"i) O numero de pontos da classe w2 classificados na classe w2 é 146: \", C2E2)#V\n",
    "print(\"ii) O numero de pontos da classe w4 classificados na classe w3 e 17: \", C4E3)#F\n",
    "\n",
    "#RESPOSTA i)"
   ]
  },
  {
   "cell_type": "code",
   "execution_count": 6,
   "metadata": {},
   "outputs": [
    {
     "name": "stdout",
     "output_type": "stream",
     "text": [
      "O numero total de erros é de 77:  69\n",
      "O numero de acertos na classe w3 é de 179:  177\n"
     ]
    }
   ],
   "source": [
    "#B)\n",
    "print(\"O numero total de erros é de 77: \", np.sum(y2!=y2e)) #F\n",
    "print(\"O numero de acertos na classe w3 é de 179: \", C3E3) #F\n",
    "\n",
    "#RESPOSTA IV)"
   ]
  },
  {
   "cell_type": "code",
   "execution_count": 7,
   "metadata": {},
   "outputs": [
    {
     "name": "stdout",
     "output_type": "stream",
     "text": [
      "[[1. 0. 0. 0.]\n",
      " [0. 0. 0. 1.]]\n"
     ]
    }
   ],
   "source": [
    "QuestDic=p.load(open('A46484_Ficha2_Respostas.p','rb'))\n",
    "#1A) RESPOSTA i)\n",
    "#1B) RESPOSTA IV)\n",
    "\n",
    "QuestDic['Q001'][0,:]=np.array([1,0,0,0])\n",
    "QuestDic['Q001'][1,:]=np.array([0,0,0,1]) \n",
    "print(QuestDic['Q001'])"
   ]
  },
  {
   "cell_type": "markdown",
   "metadata": {},
   "source": [
    "# EXERCÍCIO 2"
   ]
  },
  {
   "cell_type": "code",
   "execution_count": 8,
   "metadata": {},
   "outputs": [
    {
     "name": "stdout",
     "output_type": "stream",
     "text": [
      "X:\n",
      " [[-2 -1 -2 -1  5  5  5  2  2]\n",
      " [ 5  7  5  4  5  4  3  4  3]]\n",
      "X0:\n",
      " [[-2 -1 -2 -1]\n",
      " [ 5  7  5  4]]\n",
      "X1:\n",
      " [[5 5 5 2 2]\n",
      " [5 4 3 4 3]]\n"
     ]
    },
    {
     "data": {
      "text/plain": [
       "[<matplotlib.lines.Line2D at 0x221e6275390>]"
      ]
     },
     "execution_count": 8,
     "metadata": {},
     "output_type": "execute_result"
    },
    {
     "data": {
      "image/png": "[encoded data removed]",
      "text/plain": [
       "<Figure size 640x480 with 1 Axes>"
      ]
     },
     "metadata": {},
     "output_type": "display_data"
    }
   ],
   "source": [
    "X = np.array([[-2,  -1, -2,  -1,  5,  5,  5,  2,  2],\n",
    "              [5,  7,  5,  4,  5,  4,  3,  4,  3]])\n",
    "y = np.array([0,0,0,0,1,1,1,1,1])\n",
    "X0 = X[:,y==0]\n",
    "X1 = X[:,y==1]\n",
    "print('X:\\n',  X)\n",
    "print('X0:\\n', X0)\n",
    "print('X1:\\n', X1)\n",
    "\n",
    "# Médias e matrizes de covariância...\n",
    "m0 = np.mean(X0, axis=1)\n",
    "m1 = np.mean(X1, axis=1)\n",
    "S0 = np.cov(X0)\n",
    "S1 = np.cov(X1)\n",
    "\n",
    "# Inverter covariância\n",
    "S0i = pinv(S0)\n",
    "S1i = pinv(S1)\n",
    "\n",
    "plt.plot(X0[0,:], X0[1,:],'.')\n",
    "plt.plot(X1[0,:], X1[1,:],'.')"
   ]
  },
  {
   "cell_type": "code",
   "execution_count": 9,
   "metadata": {},
   "outputs": [
    {
     "name": "stdout",
     "output_type": "stream",
     "text": [
      "Matriz de Confusão\n",
      " [[4 0]\n",
      " [0 5]]\n",
      "\n",
      "i)  \"O numero de Verdadeiros Positivos é: 5 \":  5\n",
      "ii) \"O numero de Verdadeiros Negativos é: 3 \":  4\n"
     ]
    }
   ],
   "source": [
    "#A) Considere que o conjunto X foi classificado usando o classificador de distancia ao centroide com a metrica de distância \n",
    "# euclidiana. Considere ainda que w0 corresponde a classe dos negativos e w1 a dos positivos. Para esta alíınea,\n",
    "# use valoresn inteiros.\n",
    "D0  = np.sqrt(np.sum((X-m0[:,np.newaxis])**2, axis=0))\n",
    "D1  = np.sqrt(np.sum((X-m1[:,np.newaxis])**2, axis=0))\n",
    "Dc  = np.vstack((D0, D1)) \n",
    "yec = np.argmin(Dc, axis=0)\n",
    "MC = confusion_matrix(y, yec)\n",
    "print('Matriz de Confusão\\n', MC)\n",
    "\n",
    "# Se 0 > Negativo \n",
    "#    1 > Positivo\n",
    "# Tem-se:\n",
    "#\n",
    "#        estimado\n",
    "#          0  1\n",
    "# real  0 TN FP\n",
    "#       1 FN TP\n",
    "TN = MC[0,0]\n",
    "FP = MC[0,1]\n",
    "FN = MC[1,0]\n",
    "TP = MC[1,1]\n",
    "\n",
    "print('\\ni)  \"O numero de Verdadeiros Positivos é: 5 \": ', TP) #V\n",
    "print('ii) \"O numero de Verdadeiros Negativos é: 3 \": ', TN) #F\n",
    "\n",
    "#RESPOSTA i)   "
   ]
  },
  {
   "cell_type": "code",
   "execution_count": 10,
   "metadata": {},
   "outputs": [
    {
     "name": "stdout",
     "output_type": "stream",
     "text": [
      "[[-4 -3]\n",
      " [-1  4]]\n",
      "i)  \"O vetor x = [-4,-1]T é classificado na classe w0\": 0\n",
      "ii) \"O vetor x = [-3, 4]T é classificado na classe w1\": 0\n"
     ]
    }
   ],
   "source": [
    "#B) Considere que se pretende classificar novos vetores com o classificador de distancia ao centroide usando a \n",
    "# metrica de distância de Manhattan.\n",
    "Xi   = np.asarray([[-4], [-1]])\n",
    "Xii  = np.asarray([[-3], [4]])\n",
    "Xb   = np.hstack((Xi, Xii))\n",
    "print(Xb)\n",
    "Xtmp = Xb-m0[:,np.newaxis]\n",
    "D0   = np.sum(np.abs(Xtmp),axis=0)\n",
    "Xtmp = Xb-m1[:,np.newaxis]\n",
    "D1   = np.sum(np.abs(Xtmp),axis=0)\n",
    "Db   = np.vstack((D0, D1))\n",
    "yeb  = np.argmin(Db, axis=0)\n",
    "\n",
    "print('i)  \"O vetor x = [-4,-1]T é classificado na classe w0\":', yeb[0]) # V\n",
    "print('ii) \"O vetor x = [-3, 4]T é classificado na classe w1\":', yeb[1]) # F\n",
    "\n",
    "#RESPOSTA i)"
   ]
  },
  {
   "cell_type": "code",
   "execution_count": 11,
   "metadata": {},
   "outputs": [
    {
     "name": "stdout",
     "output_type": "stream",
     "text": [
      "[[ 3 -1]\n",
      " [-1 -1]]\n",
      "i)  \"O vetor x = [3, -1]T é classificado na classe w1\":  1\n",
      "ii) \"O vetor x = [-1,-1]T é classificado na classe w1\":  0\n"
     ]
    }
   ],
   "source": [
    "#C) Considere que se pretende classificar novos vetores com o classificador de distancia ao centroide \n",
    "# usando a metrica de distãncia de Mahalanobis.\n",
    "Xi   = np.array([[3], [-1]])\n",
    "Xii  = np.array([[-1], [-1]])\n",
    "Xc   = np.hstack((Xi, Xii))\n",
    "print(Xc)\n",
    "D0a  = np.sqrt(np.sum((Xc-m0[:,np.newaxis])*np.dot(S0i,Xc-m0[:,np.newaxis]), axis = 0))\n",
    "D1a  = np.sqrt(np.sum((Xc-m1[:,np.newaxis])*np.dot(S1i,Xc-m1[:,np.newaxis]), axis = 0))\n",
    "Da   = np.vstack((D0a, D1a))\n",
    "yea  = np.argmin(Da, axis=0) #classe classificado\n",
    "\n",
    "print('i)  \"O vetor x = [3, -1]T é classificado na classe w1\": ', yea[0]) # V\n",
    "print('ii) \"O vetor x = [-1,-1]T é classificado na classe w1\": ', yea[1]) # F\n",
    "\n",
    "#RESPOSTA i)"
   ]
  },
  {
   "cell_type": "code",
   "execution_count": 12,
   "metadata": {},
   "outputs": [
    {
     "name": "stdout",
     "output_type": "stream",
     "text": [
      "Matriz de Confusão\n",
      " [[4 0]\n",
      " [0 5]]\n",
      "i)  \"O número de acertos na classe dos positivos é de 3\":  5\n",
      "ii) \"O número de acertos na classe dos negativos é de 4\":  4\n"
     ]
    }
   ],
   "source": [
    "#D)Considere que o conjunto X foi classificado usando o classificador de distancia ao centroide com a metrica de distância \n",
    "#de cosseno.Considere ainda que w0 corresponde a classe dos negativos e w1 à dos positivos.Para esta alíınea, use valores\n",
    "#inteiros.\n",
    "Aux0 = np.dot(X.T,m0)\n",
    "D0 = 1 - Aux0/np.dot(np.sqrt(np.sum(X**2)),np.sqrt(np.sum(m0**2)))\n",
    "Aux1 = np.dot(X.T,m1)\n",
    "D1 = 1 - Aux1/np.dot(np.sqrt(np.sum(X**2)),np.sqrt(np.sum(m1**2)))\n",
    "\n",
    "Dd  = np.vstack((D0, D1)) \n",
    "yed = np.argmin(Dd, axis=0) \n",
    "\n",
    "MC = confusion_matrix(y, yed)\n",
    "print('Matriz de Confusão\\n', MC)\n",
    "TN = MC[0,0]\n",
    "FP = MC[0,1]\n",
    "FN = MC[1,0]\n",
    "TP = MC[1,1]\n",
    "\n",
    "print('i)  \"O número de acertos na classe dos positivos é de 3\": ', FP+TP) # F\n",
    "print('ii) \"O número de acertos na classe dos negativos é de 4\": ', FN+TN) # V\n",
    "\n",
    "#RESPOSTA ii)"
   ]
  },
  {
   "cell_type": "code",
   "execution_count": 13,
   "metadata": {},
   "outputs": [
    {
     "name": "stdout",
     "output_type": "stream",
     "text": [
      "i)  \"A distância de Manhattan entre os vetores de média das duas classes é 1.75\":  6.75\n",
      "ii) \"A distância de  cosseno  entre os vetores de média das duas classes é 1.77\":   0.51\n"
     ]
    }
   ],
   "source": [
    "#E)Para esta alínea, arredonde os valores pedidos a 2 casas decimais.\n",
    "Xtmp     = m0 - m1\n",
    "Dmedia   = np.sum(np.abs(Xtmp),axis=0)\n",
    "print('i)  \"A distância de Manhattan entre os vetores de média das duas classes é 1.75\": ', np.round(Dmedia,2)) # Falsa\n",
    "\n",
    "Aux = np.dot(m0,m1)\n",
    "Dmedia = 1 - Aux/np.dot(np.sqrt(np.sum(m0**2)),np.sqrt(np.sum(m1**2)))\n",
    "print('ii) \"A distância de  cosseno  entre os vetores de média das duas classes é 1.77\":  ',  np.round(Dmedia,2)) # Falsa\n",
    "\n",
    "#RESPOSTA iV)"
   ]
  },
  {
   "cell_type": "code",
   "execution_count": 14,
   "metadata": {},
   "outputs": [
    {
     "name": "stdout",
     "output_type": "stream",
     "text": [
      "[[1. 0. 0. 0.]\n",
      " [1. 0. 0. 0.]\n",
      " [1. 0. 0. 0.]\n",
      " [0. 1. 0. 0.]\n",
      " [0. 0. 0. 1.]]\n"
     ]
    }
   ],
   "source": [
    "#A) RESPOSTA i) \n",
    "#B) RESPOSTA i)\n",
    "#C) RESPOSTA i)\n",
    "#D) RESPOSTA ii)\n",
    "#E) RESPOSTA iV)\n",
    "QuestDic['Q002'][0,:]=np.array([1,0,0,0])\n",
    "QuestDic['Q002'][1,:]=np.array([1,0,0,0])\n",
    "QuestDic['Q002'][2,:]=np.array([1,0,0,0])\n",
    "QuestDic['Q002'][3,:]=np.array([0,1,0,0])\n",
    "QuestDic['Q002'][4,:]=np.array([0,0,0,1]) \n",
    "print(QuestDic['Q002'])"
   ]
  },
  {
   "cell_type": "markdown",
   "metadata": {},
   "source": [
    "# EXERCÍCIO 3"
   ]
  },
  {
   "cell_type": "code",
   "execution_count": 15,
   "metadata": {},
   "outputs": [
    {
     "name": "stdout",
     "output_type": "stream",
     "text": [
      "dict_keys(['trueClass', 'estClass'])\n",
      "\n",
      "Matriz de Confusão \n",
      " [[1141  139]\n",
      " [  30  290]]\n"
     ]
    }
   ],
   "source": [
    "# Load do ficheiro\n",
    "Q3=p.load(open('A46484_Q003_data.p','rb'))\n",
    "print(Q3.keys())\n",
    "\n",
    "# Obtenção das classes e cálculo da matriz de confusão\n",
    "y  = Q3['trueClass']\n",
    "ye = Q3['estClass']\n",
    "MC = confusion_matrix(y, ye)\n",
    "print('\\nMatriz de Confusão \\n', MC)\n",
    "\n",
    "# Se 0 > Negativo \n",
    "#    1 > Positivo\n",
    "# Tem-se:\n",
    "#\n",
    "#        estimado\n",
    "#          0  1\n",
    "# real  0 TN FP\n",
    "#       1 FN TP\n",
    "TN = MC[0,0]\n",
    "FP = MC[0,1]\n",
    "FN = MC[1,0]\n",
    "TP = MC[1,1]"
   ]
  },
  {
   "cell_type": "code",
   "execution_count": 25,
   "metadata": {},
   "outputs": [
    {
     "name": "stdout",
     "output_type": "stream",
     "text": [
      "i)  \"A percentagem de acertos da classe dos negativos e de 89.1%:\"  89.4 %\n",
      "ii) \"A percentagem de exemplos da classe dos negativos e de 80.0%\":  80.0 %\n"
     ]
    }
   ],
   "source": [
    "#A) Para esta alínea, arredonde os valores pedidos a 1 casa decimal.\n",
    "print('i)  \"A percentagem de acertos da classe dos negativos e de 89.1%:\" ', round((TP+TN)/(TN+FP+FN+TP) * 100,1), '%') # \n",
    "print('ii) \"A percentagem de exemplos da classe dos negativos e de 80.0%\": ', round((FP+TN)/(TN+FP+FN+TP) * 100,1), '%') #V\n",
    "\n",
    "#RESPOSTA ii)"
   ]
  },
  {
   "cell_type": "code",
   "execution_count": 17,
   "metadata": {},
   "outputs": [
    {
     "name": "stdout",
     "output_type": "stream",
     "text": [
      "0.90625\n",
      "i) \"O F-score e: 1.000:\"  0.774\n",
      "ii)  \"A taxa de re-chamada (recall) e: 0.906:\"  0.906\n"
     ]
    }
   ],
   "source": [
    "#B)Para esta alínea, arredonde os valores pedidos a 3 casas decimais.\n",
    "precision = TP/(TP+FP)\n",
    "recall    = TP/(TP+FN)\n",
    "print(recall)\n",
    "f_score   = 2*(precision*recall)/(precision+recall)\n",
    "\n",
    "print('i) \"O F-score e: 1.000:\" ', np.round(f_score, 3)) #F\n",
    "print('ii)  \"A taxa de re-chamada (recall) e: 0.906:\" ', np.round(recall, 3)) #V\n",
    "\n",
    "#RESPOSTA ii)\n",
    "    "
   ]
  },
  {
   "cell_type": "code",
   "execution_count": 18,
   "metadata": {},
   "outputs": [
    {
     "name": "stdout",
     "output_type": "stream",
     "text": [
      "i)   \"O numero de Falsos Positivos é: 223\":  139\n",
      "ii)  \"O numero de Verdadeiros Positivos é: 290\":        290\n"
     ]
    }
   ],
   "source": [
    "#C) Para esta alínea, use valores inteiros\n",
    "print('i)   \"O numero de Falsos Positivos é: 223\": ', FP) # F\n",
    "print('ii)  \"O numero de Verdadeiros Positivos é: 290\":       ', TP) # V\n",
    "#RESPOSTA ii)"
   ]
  },
  {
   "cell_type": "code",
   "execution_count": 19,
   "metadata": {},
   "outputs": [
    {
     "name": "stdout",
     "output_type": "stream",
     "text": [
      "[[0. 1. 0. 0.]\n",
      " [0. 1. 0. 0.]\n",
      " [0. 1. 0. 0.]]\n"
     ]
    }
   ],
   "source": [
    "#A) RESPOSTA ii)\n",
    "#B) RESPOSTA ii)\n",
    "#C) RESPOSTA ii)\n",
    "QuestDic['Q003'][0,:]=np.array([0,1,0,0])\n",
    "QuestDic['Q003'][1,:]=np.array([0,1,0,0])\n",
    "QuestDic['Q003'][2,:]=np.array([0,1,0,0])\n",
    "print(QuestDic['Q003'])"
   ]
  },
  {
   "cell_type": "markdown",
   "metadata": {},
   "source": [
    "# RESULTADOS FINAIS"
   ]
  },
  {
   "cell_type": "code",
   "execution_count": 20,
   "metadata": {},
   "outputs": [
    {
     "name": "stdout",
     "output_type": "stream",
     "text": [
      "1a): 1\n",
      "1b): 4\n",
      "\n",
      "2a): 1\n",
      "2b): 1\n",
      "2c): 1\n",
      "2d): 2\n",
      "2e): 4\n",
      "\n",
      "3a): 2\n",
      "3b): 2\n",
      "3c): 2\n"
     ]
    }
   ],
   "source": [
    "p.dump(QuestDic,open('A46484_Ficha2_Respostas.p','wb'))\n",
    "QuestDic=p.load(open('A46484_Ficha2_Respostas.p','rb'))\n",
    "# Pergunta 1\n",
    "print('1a):', np.where(QuestDic['Q001'][0,:] == 1)[0][0] + 1)\n",
    "print('1b):', np.where(QuestDic['Q001'][1,:] == 1)[0][0] + 1)\n",
    "print()\n",
    "## Pergunta 2\n",
    "print('2a):', np.where(QuestDic['Q002'][0,:] == 1)[0][0] + 1)\n",
    "print('2b):', np.where(QuestDic['Q002'][1,:] == 1)[0][0] + 1)\n",
    "print('2c):', np.where(QuestDic['Q002'][2,:] == 1)[0][0] + 1)\n",
    "print('2d):', np.where(QuestDic['Q002'][3,:] == 1)[0][0] + 1)\n",
    "print('2e):', np.where(QuestDic['Q002'][4,:] == 1)[0][0] + 1)\n",
    "print()\n",
    "# Pergunta 3\n",
    "print('3a):', np.where(QuestDic['Q003'][0,:] == 1)[0][0] + 1)\n",
    "print('3b):', np.where(QuestDic['Q003'][1,:] == 1)[0][0] + 1)\n",
    "print('3c):', np.where(QuestDic['Q003'][2,:] == 1)[0][0] + 1)\n"
   ]
  }
 ],
 "metadata": {
  "kernelspec": {
   "display_name": "Python 3",
   "language": "python",
   "name": "python3"
  },
  "language_info": {
   "codemirror_mode": {
    "name": "ipython",
    "version": 3
   },
   "file_extension": ".py",
   "mimetype": "text/x-python",
   "name": "python",
   "nbconvert_exporter": "python",
   "pygments_lexer": "ipython3",
   "version": "3.11.2"
  }
 },
 "nbformat": 4,
 "nbformat_minor": 2
}
