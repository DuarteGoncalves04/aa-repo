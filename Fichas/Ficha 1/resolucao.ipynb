{
 "cells": [
  {
   "cell_type": "code",
   "execution_count": 1,
   "metadata": {},
   "outputs": [],
   "source": [
    "import numpy as np\n",
    "import matplotlib.pyplot as plt\n",
    "import pickle as p\n",
    "import numpy.random as rd\n",
    "from scipy.linalg import sqrtm"
   ]
  },
  {
   "cell_type": "code",
   "execution_count": 2,
   "metadata": {},
   "outputs": [],
   "source": [
    "QuestDic=p.load(open('A46484_Ficha1_Respostas.p','rb'))"
   ]
  },
  {
   "cell_type": "markdown",
   "metadata": {},
   "source": [
    "1. Considere o conjunto de 7 vetores bi-dimensionais, divididos em duas classes Ω = {w0,w1},\n",
    "representados na matriz X = [−5 −4 −5 −6 5 2 5 1 0 1 2 −3 −4 −2]\n",
    "(os 4 primeiros vetores do conjunto pertencem a classe w0)."
   ]
  },
  {
   "cell_type": "code",
   "execution_count": 3,
   "metadata": {},
   "outputs": [
    {
     "name": "stdout",
     "output_type": "stream",
     "text": [
      "X:\n",
      " [[-5 -4 -5 -6  5  2  5]\n",
      " [ 1  0  1  2 -3 -4 -2]]\n",
      "X0:\n",
      " [[-5 -4 -5 -6]\n",
      " [ 1  0  1  2]]\n",
      "X1:\n",
      " [[ 5  2  5]\n",
      " [-3 -4 -2]]\n"
     ]
    }
   ],
   "source": [
    "x = np.array([[-5, -4, -5, -6,  5,  2,  5],\n",
    "             [ 1,  0,  1,  2, -3, -4, -2]])\n",
    "\n",
    "# \"Os 4 primeiros vetores do conjunto pertencem a classe w0\"\n",
    "x0 = x[:,:4]\n",
    "x1 = x[:,4:]\n",
    "print('X:\\n',  x)\n",
    "print('X0:\\n', x0)\n",
    "print('X1:\\n', x1)"
   ]
  },
  {
   "cell_type": "markdown",
   "metadata": {},
   "source": [
    "(a) Para esta alínea, arredonde os valores pedidos a 2 casas décimais"
   ]
  },
  {
   "cell_type": "code",
   "execution_count": 4,
   "metadata": {},
   "outputs": [
    {
     "name": "stdout",
     "output_type": "stream",
     "text": [
      "i. O produto interno entre as médias das duas classes e: −23.00: \n",
      " -23.0\n",
      "ii. A norma da media da classe w0 e: 5.10 \n",
      " 5.1\n"
     ]
    }
   ],
   "source": [
    "#Média\n",
    "m0 = np.mean(x0,axis=1)\n",
    "m1 = np.mean(x1, axis=1)\n",
    "\n",
    "#Matriz de Covariancia\n",
    "s0 = np.cov(x0)\n",
    "s1 = np.cov(x1)\n",
    "\n",
    "print('i. O produto interno entre as médias das duas classes e: −23.00: \\n', np.round(np.dot(m0,m1),2))\n",
    "print('ii. A norma da media da classe w0 e: 5.10 \\n', np.round(np.linalg.norm(m0),2))\n",
    "\n",
    "#SOLUCAO = [0,0,1,0]\n"
   ]
  },
  {
   "cell_type": "markdown",
   "metadata": {},
   "source": [
    "(b) Para esta alínea, arredonde os valores pedidos a 2 casas decimais."
   ]
  },
  {
   "cell_type": "code",
   "execution_count": 5,
   "metadata": {},
   "outputs": [
    {
     "name": "stdout",
     "output_type": "stream",
     "text": [
      "i. O produto, Σ0µ0, entre a matriz de covariancia da classe w0 e o vetor de media da classe w0 e:     x = [−7.00, 1.00].T \n",
      " [-4.  4.]\n",
      "ii. O produto, Σ1µ0, entre a matriz de covariancia da classe w1 e o vetor de media da classe w0 e:     x = [−14.50, −8.50].T \n",
      " [-13.5  -6.5]\n"
     ]
    }
   ],
   "source": [
    "print('i. O produto, Σ0µ0, entre a matriz de covariancia da classe w0 e o vetor de media da classe w0 e: \\\n",
    "    x = [−7.00, 1.00].T \\n', np.round(np.dot(s0,m0),2))\n",
    "print('ii. O produto, Σ1µ0, entre a matriz de covariancia da classe w1 e o vetor de media da classe w0 e: \\\n",
    "    x = [−14.50, −8.50].T \\n', np.round(np.dot(s1,m0),2))\n",
    "\n",
    "#SOLUCAO [0,0,0,1]"
   ]
  },
  {
   "cell_type": "markdown",
   "metadata": {},
   "source": [
    "(c) Para esta alínea, arredonde os valores pedidos a 2 casas decimais."
   ]
  },
  {
   "cell_type": "code",
   "execution_count": 6,
   "metadata": {},
   "outputs": [
    {
     "name": "stdout",
     "output_type": "stream",
     "text": [
      "i. Considere a matriz X1 de 2×3, composta pelos vetores da classe w1. O resultado do produto matricial X1X1.T é [[77.10, 12.82],[12.82, 41.40]] \n",
      " [[ 54 -33]\n",
      " [-33  29]]\n",
      "ii. A matriz de covariancia da classe w0 é: [[0.67, −0.67],[−0.67, 0.67]] \n",
      " [[ 0.67 -0.67]\n",
      " [-0.67  0.67]]\n"
     ]
    }
   ],
   "source": [
    "print('i. Considere a matriz X1 de 2×3, composta pelos vetores da classe w1. O resultado \\\n",
    "do produto matricial X1X1.T é [[77.10, 12.82],[12.82, 41.40]] \\n', np.round(np.dot(x1,x1.T),2))\n",
    "print('ii. A matriz de covariancia da classe w0 é: [[0.67, −0.67],[−0.67, 0.67]] \\n', np.round(s0,2))\n",
    "\n",
    "#SOLUCAO [0,1,0,0]"
   ]
  },
  {
   "cell_type": "code",
   "execution_count": 7,
   "metadata": {},
   "outputs": [
    {
     "name": "stdout",
     "output_type": "stream",
     "text": [
      "[[0. 0. 1. 0.]\n",
      " [0. 0. 0. 1.]\n",
      " [0. 1. 0. 0.]]\n"
     ]
    }
   ],
   "source": [
    "#RESULTADOS DA EPRGUNTA 1\n",
    "#a) #SOLUCAO [0,0,1,0]\n",
    "#b) #SOLUCAO [0,0,0,1]\n",
    "#c) #SOLUCAO [0,1,0,0]\n",
    "\n",
    "QuestDic['Q001'][0,:]=np.array([0,0,1,0])\n",
    "QuestDic['Q001'][1,:]=np.array([0,0,0,1])\n",
    "QuestDic['Q001'][2,:]=np.array([0,1,0,0])\n",
    "print(QuestDic['Q001'])"
   ]
  },
  {
   "cell_type": "markdown",
   "metadata": {},
   "source": [
    "2. Considere um conjunto de N realizacoes de uma variavel aleatoria x, bi-dimensional.\n",
    "Considere ainda que este conjunto esta num numpy array X de dimensao 2×N. Assuma\n",
    "que os seguintes comandos ja foram executados: \n"
   ]
  },
  {
   "cell_type": "code",
   "execution_count": 8,
   "metadata": {},
   "outputs": [
    {
     "name": "stdout",
     "output_type": "stream",
     "text": [
      "(2, 100000)\n"
     ]
    }
   ],
   "source": [
    "N = 100000\n",
    "X = rd.rand(2,N)\n",
    "print(X.shape)"
   ]
  },
  {
   "cell_type": "markdown",
   "metadata": {},
   "source": [
    "(a) Estas instrucoes calculam a matriz de covariancia dos dados (guardada em Cx)"
   ]
  },
  {
   "cell_type": "code",
   "execution_count": 9,
   "metadata": {},
   "outputs": [
    {
     "name": "stdout",
     "output_type": "stream",
     "text": [
      "Matriz de Covariância: \n",
      " [[ 8.30673800e-02 -4.12371544e-05]\n",
      " [-4.12371544e-05  8.31524747e-02]]\n"
     ]
    }
   ],
   "source": [
    "Cx0 = np.cov(X)\n",
    "print('Matriz de Covariância: \\n', Cx0)"
   ]
  },
  {
   "cell_type": "code",
   "execution_count": 10,
   "metadata": {},
   "outputs": [
    {
     "name": "stdout",
     "output_type": "stream",
     "text": [
      "i. =  [[ 0.04157558 -0.04157558]\n",
      " [-0.04157558  0.04157558]]\n",
      "iv. =  [[ 8.30673800e-02 -4.12371544e-05]\n",
      " [-4.12371544e-05  8.31524747e-02]]\n"
     ]
    }
   ],
   "source": [
    "#i\n",
    "mx=np.mean(X,axis=0)\n",
    "Xn=X-mx\n",
    "Ctmp=np.dot(Xn,Xn.T)\n",
    "Cx1=Ctmp/(X.shape[1]-1)\n",
    "print('i. = ',Cx1)\n",
    "\n",
    "#ii. ERROR\n",
    "#mx=np.mean(X,axis=1)\n",
    "#Xn=(X.T-mx).T\n",
    "#Ctmp=Xn*Xn.T\n",
    "#Cx2=Ctmp/(X.shape[1]-1)\n",
    "#rint('ii. = ',Cx2)\n",
    "\n",
    "#iii. ERROR\n",
    "#Cx3=np.cov(X,rowvar=False)\n",
    "#print('iii. = ',Cx3)\n",
    "\n",
    "#iv.\n",
    "mx=np.mean(X,axis=1)\n",
    "Xn=X-mx[:,np.newaxis]\n",
    "Ctmp=np.dot(Xn,Xn.T)\n",
    "Cx4=Ctmp/(X.shape[1]-1)\n",
    "print('iv. = ',Cx4)\n",
    "\n",
    "#SOLUCAO [0,0,0,1]"
   ]
  },
  {
   "cell_type": "markdown",
   "metadata": {},
   "source": [
    "b). Assuma que o conjunto de N realizacoes de x foi obtido com o seguinte comando:\n",
    "X=np.random.randn(2,N) onde N e um inteiro previamente definido (com N >> 2). Considere uma transformacao linear deste conjunto de modo a que os dados transformados tenham uma distribuicao gaussiana com media µy = [0, −4].T e matriz de covariancia Σy = [[68.56, 32.26], [32.26, 68.56]]\n",
    "Os seguintes comandos geram osdados pretendidos (guardados em Y)."
   ]
  },
  {
   "cell_type": "code",
   "execution_count": 11,
   "metadata": {},
   "outputs": [
    {
     "name": "stdout",
     "output_type": "stream",
     "text": [
      "A pretendido manualmente:\n",
      " [[8.03293 2.00798]\n",
      " [2.00798 8.03293]]\n",
      "\n",
      "Media com i):  [ 16. -23.]\n",
      "Cov. com i):\n",
      " [[5.7  2.68]\n",
      " [2.68 5.69]]\n"
     ]
    }
   ],
   "source": [
    "Xn = rd.randn(2,N)\n",
    "Sy = np.array([[68.56, 32.26], [32.26, 68.56]])\n",
    "print('A pretendido manualmente:\\n', np.round(sqrtm(Sy),5))\n",
    "\n",
    "#i. ERRADO\n",
    "A=np.array([[-7.10,4.26],[-7.10,-4.26]])\n",
    "m=np.array([0, -4])\n",
    "Y=np.dot(A,(X.T-m).T)\n",
    "print('\\nMedia com i): ', np.round(np.mean(Y, axis = 1)))\n",
    "print('Cov. com i):\\n', np.round(np.cov(Y),2))\n",
    "\n",
    "#ii. ERRADO\n",
    "#A=np.array([[-7.10,4.26],[-7.10,-4.26]])\n",
    "#m=np.array([0, -4])\n",
    "#Y=(np.dot(A.T,X.T).T+m).T\n",
    "#print('\\nMedia com i): ', np.round(np.mean(Y, axis = 1)))\n",
    "#print('Cov. com i):\\n', np.round(np.cov(Y),2))\n",
    "\n",
    "#SOLUCAO [0,0,0,1]\n"
   ]
  },
  {
   "cell_type": "code",
   "execution_count": 12,
   "metadata": {},
   "outputs": [
    {
     "name": "stdout",
     "output_type": "stream",
     "text": [
      "[[0. 0. 0. 1.]\n",
      " [0. 0. 0. 1.]]\n"
     ]
    }
   ],
   "source": [
    "#RESPOSTAS DAS PERGUNTA 2\n",
    "#a) #SOLUCAO [0,0,0,1]\n",
    "#b) #SOLUCAO [0,0,0,1]\n",
    "\n",
    "QuestDic['Q002'][0,:]=np.array([0,0,0,1])\n",
    "QuestDic['Q002'][1,:]=np.array([0,0,0,1])\n",
    "print(QuestDic['Q002'])"
   ]
  },
  {
   "cell_type": "markdown",
   "metadata": {},
   "source": [
    "3. No ficheiro A46484_Q003_data.p, encontram-se um conjunto de dados bi-dimensionais\n",
    "divididos em 5 classes (indices de 0 a 4). Ha duas variaveis num dicionario: a chave \n",
    "trueClass contem os indices das classes dos dados, enquanto a chave dados contem\n",
    "os dados bidimensionais. Verificam-se as seguintes condicoes no conjunto de dados disponibilizado:"
   ]
  },
  {
   "cell_type": "code",
   "execution_count": 13,
   "metadata": {},
   "outputs": [
    {
     "name": "stdout",
     "output_type": "stream",
     "text": [
      "dict_keys(['trueClass', 'dados'])\n"
     ]
    },
    {
     "data": {
      "image/png": "[encoded data removed]",
      "text/plain": [
       "<Figure size 640x480 with 1 Axes>"
      ]
     },
     "metadata": {},
     "output_type": "display_data"
    }
   ],
   "source": [
    "fName = 'A46484_Q003_data.p'\n",
    "D = p.load(open(fName,'rb'))\n",
    "print(D.keys())\n",
    "\n",
    "X = D['dados']\n",
    "y = D['trueClass']\n",
    "\n",
    "# Divisão por classe\n",
    "X0 = X[:,y==0]\n",
    "X1 = X[:,y==1]\n",
    "X2 = X[:,y==2]\n",
    "X3 = X[:,y==3]\n",
    "X4 = X[:,y==4]\n",
    "\n",
    "# Obter médias\n",
    "m0 = np.mean(X0, axis=1)\n",
    "m1 = np.mean(X1, axis=1)\n",
    "m2 = np.mean(X2, axis=1)\n",
    "m3 = np.mean(X3, axis=1)\n",
    "m4 = np.mean(X4, axis=1)\n",
    "\n",
    "# Obter matrizes de covarância\n",
    "S0 = np.cov(X0)\n",
    "S1 = np.cov(X1)\n",
    "S2 = np.cov(X2)\n",
    "S3 = np.cov(X3)\n",
    "S4 = np.cov(X4)\n",
    "\n",
    "plt.plot(X[0,y==0], X[1,y==0],'.')\n",
    "plt.plot(X[0,y==1], X[1,y==1],'.')\n",
    "plt.plot(X[0,y==2], X[1,y==2],'.')\n",
    "plt.plot(X[0,y==3], X[1,y==3],'.')\n",
    "plt.plot(X[0,y==4], X[1,y==4],'.')\n",
    "\n",
    "plt.axis('equal')\n",
    "plt.grid(True)\n"
   ]
  },
  {
   "cell_type": "markdown",
   "metadata": {},
   "source": [
    "(a) Para esta alínea, arredonde os valores pedidos a 2 casas decimais."
   ]
  },
  {
   "cell_type": "code",
   "execution_count": 14,
   "metadata": {},
   "outputs": [
    {
     "name": "stdout",
     "output_type": "stream",
     "text": [
      "i. A probabilidade apriori da classe 0 e: 0.27. \n",
      " 0.2\n",
      "ii. A matriz de covariancia da classe 4 é: [[1.01,-0.03],[-0.03,1.05]]\n",
      " [[ 1.01 -0.03]\n",
      " [-0.03  1.05]]\n"
     ]
    }
   ],
   "source": [
    "print('i. A probabilidade apriori da classe 0 e: 0.27. \\n', np.round(len(y[y==0])/len(y),2))\n",
    "print('ii. A matriz de covariancia da classe 4 é: [[1.01,-0.03],[-0.03,1.05]]\\n', np.round(np.cov(X4),2))\n",
    "# SOLUCAO [0,1,0,0]"
   ]
  },
  {
   "cell_type": "markdown",
   "metadata": {},
   "source": [
    "(b) Para esta alinea, arredonde os valores pedidos a 2 casas decimais."
   ]
  },
  {
   "cell_type": "code",
   "execution_count": 15,
   "metadata": {},
   "outputs": [
    {
     "name": "stdout",
     "output_type": "stream",
     "text": [
      "i. A media da classe 1 é: [3.07,-2.98] \n",
      " [ 3.07 -2.98]\n",
      "ii.  A media da classe 2 é: [0.00,-1.00]\n",
      " [0. 0.]\n"
     ]
    }
   ],
   "source": [
    "print('i. A media da classe 1 é: [3.07,-2.98] \\n', np.round(m1,2))\n",
    "print('ii.  A media da classe 2 é: [0.00,-1.00]\\n', np.round(m2,2))\n",
    "#SOLUCAO [1,0,0,0]"
   ]
  },
  {
   "cell_type": "markdown",
   "metadata": {},
   "source": [
    "(c) Para esta al´ınea, arredonde os valores pedidos a 2 casas decimais."
   ]
  },
  {
   "cell_type": "code",
   "execution_count": 16,
   "metadata": {},
   "outputs": [
    {
     "name": "stdout",
     "output_type": "stream",
     "text": [
      "i. A media dos dados é: [0.90, -0.89]\n",
      " [-0.1  -0.89]\n",
      "ii. A matriz de covariancia dos dados é: [[19.46, 2.15],[2.15, 9.59]]\n",
      " [[12.95  2.53]\n",
      " [ 2.53  6.39]]\n"
     ]
    }
   ],
   "source": [
    "print('i. A media dos dados é: [0.90, -0.89]\\n', np.round(np.mean(X, axis = 1),2))\n",
    "print('ii. A matriz de covariancia dos dados é: [[19.46, 2.15],[2.15, 9.59]]\\n', np.round(np.cov(X),2))\n",
    "#SOLUCAO[0,0,0,1]"
   ]
  },
  {
   "cell_type": "markdown",
   "metadata": {},
   "source": [
    "(d) Considere que µi e Σi com i = 0, . . . , 4 sao os vetores de m ˜ edia e as matrizes de ´\n",
    "covariancia das classes. Para esta al ˆ ´ınea, arredonde os valores pedidos a 2 casas\n",
    "decimais."
   ]
  },
  {
   "cell_type": "code",
   "execution_count": 17,
   "metadata": {},
   "outputs": [
    {
     "name": "stdout",
     "output_type": "stream",
     "text": [
      "i) \"O vetor resultante do protudo Σ1µ1, entre a matriz de covariância da classe 1 e o vetor de média da classe 1 é [1.27, 1.05]\": \n",
      " [-6.33 -4.27]\n",
      "\n",
      "ii) \"O determinante do produto matricial entre as matrizes de covariância das classes 0 e 1 é 6.68\": \n",
      "    6.68\n",
      "\n",
      "iii) \"O produto interno entre as medias das classes 0 e 3 é −20.28\": \n",
      "    -23.28\n",
      "\n",
      "iv) \"O resultado do produto matricial µ0.T*Σ3*µ4 é −23.22\": \n",
      "    -24.22\n"
     ]
    }
   ],
   "source": [
    "print('i) \"O vetor resultante do protudo Σ1µ1, entre a matriz de covariância da classe 1 e o vetor de média da\\\n",
    " classe 1 é [1.27, 1.05]\": \\n',  np.round(np.cross(S1, m1),2))\n",
    "print('\\nii) \"O determinante do produto matricial entre as matrizes de covariância das classes 0 e 1 é 6.68\": \\n   ',\n",
    "       np.round(np.linalg.det(np.dot(S0, S1)),2))\n",
    "print('\\niii) \"O produto interno entre as medias das classes 0 e 3 é −20.28\": \\n   ',  np.round(np.inner(m0, m3),2))\n",
    "print('\\niv) \"O resultado do produto matricial µ0.T*Σ3*µ4 é −23.22\": \\n   ',  np.round(np.dot(np.dot(m0.T, S3), m4),2))\n",
    "#SOLUCAO [0,1,0,0]"
   ]
  },
  {
   "cell_type": "code",
   "execution_count": 18,
   "metadata": {},
   "outputs": [
    {
     "name": "stdout",
     "output_type": "stream",
     "text": [
      "[[0. 1. 0. 0.]\n",
      " [1. 0. 0. 0.]\n",
      " [0. 0. 0. 1.]\n",
      " [0. 1. 0. 0.]]\n"
     ]
    }
   ],
   "source": [
    "#RESULTADOS EXERCICIO 3\n",
    "#a) #SOLUCAO [0,1,0,0]\n",
    "#b) #SOLUCAO [1,0,0,0]\n",
    "#c) #SOLUCAO [0,0,0,1]\n",
    "#d) #SOLUCAO [0,1,0,0]\n",
    "QuestDic['Q003'][0,:]=np.array([0,1,0,0])\n",
    "QuestDic['Q003'][1,:]=np.array([1,0,0,0])\n",
    "QuestDic['Q003'][2,:]=np.array([0,0,0,1])\n",
    "QuestDic['Q003'][3,:]=np.array([0,1,0,0])\n",
    "print(QuestDic['Q003'])\n",
    "p.dump(QuestDic,open('A46484_Ficha1_Respostas.p','wb'))"
   ]
  },
  {
   "cell_type": "code",
   "execution_count": 19,
   "metadata": {},
   "outputs": [
    {
     "name": "stdout",
     "output_type": "stream",
     "text": [
      "1a): 3\n",
      "1b): 4\n",
      "1c): 2\n",
      "\n",
      "2a): 4\n",
      "2b): 4\n",
      "\n",
      "3a): 2\n",
      "3b): 1\n",
      "3c): 4\n",
      "3d): 2\n",
      "\n",
      "[[0. 0. 1. 0.]\n",
      " [0. 0. 0. 1.]\n",
      " [0. 1. 0. 0.]]\n",
      "[[0. 0. 0. 1.]\n",
      " [0. 0. 0. 1.]]\n",
      "[[0. 1. 0. 0.]\n",
      " [1. 0. 0. 0.]\n",
      " [0. 0. 0. 1.]\n",
      " [0. 1. 0. 0.]]\n",
      "Duarte Alexandre Pedro Gonçalves\n",
      "A46484\n"
     ]
    }
   ],
   "source": [
    "#CHECKUP\n",
    "QuestDic=p.load(open('A46484_Ficha1_Respostas.p','rb'))\n",
    "## Pergunta 1\n",
    "\n",
    "print('1a):', np.where(QuestDic['Q001'][0,:] == 1)[0][0] + 1)\n",
    "print('1b):', np.where(QuestDic['Q001'][1,:] == 1)[0][0] + 1)\n",
    "print('1c):', np.where(QuestDic['Q001'][2,:] == 1)[0][0] + 1)\n",
    "print()\n",
    "## Pergunta 2\n",
    "print('2a):', np.where(QuestDic['Q002'][0,:] == 1)[0][0] + 1)\n",
    "print('2b):', np.where(QuestDic['Q002'][1,:] == 1)[0][0] + 1)\n",
    "print()\n",
    "## Pergunta 3\n",
    "print('3a):', np.where(QuestDic['Q003'][0,:] == 1)[0][0] + 1)\n",
    "print('3b):', np.where(QuestDic['Q003'][1,:] == 1)[0][0] + 1)\n",
    "print('3c):', np.where(QuestDic['Q003'][2,:] == 1)[0][0] + 1)\n",
    "print('3d):', np.where(QuestDic['Q003'][3,:] == 1)[0][0] + 1)\n",
    "\n",
    "print()\n",
    "print(QuestDic['Q001'])\n",
    "print(QuestDic['Q002'])\n",
    "print(QuestDic['Q003'])\n",
    "print(QuestDic['nome'])\n",
    "print(QuestDic['numero'])"
   ]
  }
 ],
 "metadata": {
  "kernelspec": {
   "display_name": "Python 3",
   "language": "python",
   "name": "python3"
  },
  "language_info": {
   "codemirror_mode": {
    "name": "ipython",
    "version": 3
   },
   "file_extension": ".py",
   "mimetype": "text/x-python",
   "name": "python",
   "nbconvert_exporter": "python",
   "pygments_lexer": "ipython3",
   "version": "3.11.2"
  },
  "orig_nbformat": 4
 },
 "nbformat": 4,
 "nbformat_minor": 2
}
