{
 "cells": [
  {
   "cell_type": "markdown",
   "metadata": {},
   "source": [
    "## Ficha 4 - Resolução"
   ]
  },
  {
   "cell_type": "code",
   "execution_count": 194,
   "metadata": {},
   "outputs": [],
   "source": [
    "import matplotlib.pyplot as plt\n",
    "import numpy as np\n",
    "import numpy.random as rd\n",
    "import sklearn.datasets as dt\n",
    "import scipy.linalg as la\n",
    "import pickle\n",
    "\n",
    "from sklearn.preprocessing import PolynomialFeatures\n",
    "from sklearn.linear_model import LinearRegression, Lasso, Ridge\n",
    "from sklearn.metrics import confusion_matrix"
   ]
  },
  {
   "cell_type": "code",
   "execution_count": 195,
   "metadata": {},
   "outputs": [
    {
     "name": "stdout",
     "output_type": "stream",
     "text": [
      "dict_keys(['Q001', 'Q002', 'Q003', 'nome', 'numero'])\n",
      "Nome:  Duarte Alexandre Pedro Gonçalves\n",
      "Número:  A46484\n",
      "Pergunta 1:\n",
      "  [[0. 1. 0. 0.]\n",
      " [0. 1. 0. 0.]]\n",
      "Pergunta 2:\n",
      "  [[0. 0. 0. 1.]\n",
      " [0. 0. 1. 0.]\n",
      " [1. 0. 0. 0.]]\n",
      "Pergunta 3:\n",
      "  [[0. 1. 0. 0.]\n",
      " [0. 0. 1. 0.]\n",
      " [0. 1. 0. 0.]]\n"
     ]
    }
   ],
   "source": [
    "QuestDic = pickle.load(open(\"A46484_Ficha4_Respostas.p\", \"rb\"))\n",
    "print(QuestDic.keys())\n",
    "print(\"Nome: \",QuestDic['nome'])\n",
    "print(\"Número: \",QuestDic['numero'])\n",
    "print(\"Pergunta 1:\\n \",QuestDic['Q001'])\n",
    "print(\"Pergunta 2:\\n \",QuestDic['Q002'])\n",
    "print(\"Pergunta 3:\\n \",QuestDic['Q003'])"
   ]
  },
  {
   "cell_type": "markdown",
   "metadata": {},
   "source": [
    "### Exercício 1 <br>\n",
    "No ficheiro A46484_Q001_data.p encontra-se disponível uma variavel independente x e uma variavel dependente y. Pretende-se estimar a variavel y atraves de uma regressão polinomial da variavel x, minimizando o erro quadratico médio."
   ]
  },
  {
   "cell_type": "code",
   "execution_count": 196,
   "metadata": {},
   "outputs": [
    {
     "name": "stdout",
     "output_type": "stream",
     "text": [
      "dict_keys(['x', 'y', 'folds'])\n",
      "X.shape:  (3, 2934)\n",
      "y.shape:  (164,)\n",
      "f.shape:  (164,)\n"
     ]
    }
   ],
   "source": [
    "D = pickle.load(open(\"A46484_Q001_data.p\", \"rb\"))\n",
    "print(D.keys())\n",
    "x = D['x']\n",
    "y = D['y']\n",
    "f = D['folds']\n",
    "\n",
    "print(\"X.shape: \",X.shape)\n",
    "print(\"y.shape: \",y.shape)\n",
    "print(\"f.shape: \",f.shape)"
   ]
  },
  {
   "cell_type": "markdown",
   "metadata": {},
   "source": [
    "#### (a) Considere o conjunto de treino composto pelo “fold” 0, e o conjunto de teste composto pelo “fold” 1. Considere ainda que, atraves da minimização do erro quadrático medio do conjunto de treino, se estimou um modelo regressão polinomial de 4º ordem: $y = w_0 + w_1x + w_2x^2 + w_3x^3 + w_4x^4$."
   ]
  },
  {
   "cell_type": "code",
   "execution_count": 197,
   "metadata": {},
   "outputs": [
    {
     "name": "stdout",
     "output_type": "stream",
     "text": [
      "X0.shape:  (98, 1)\n",
      "X1.shape:  (66, 1)\n",
      "i. No conjunto de treino, o erro absoluto medio e igual a 0.49:  0.28\n",
      "ii. No conjunto de treino, o erro quadratico médio e igual a 0.12:  0.12\n"
     ]
    }
   ],
   "source": [
    "#Treino \n",
    "x0 = x[f==0] \n",
    "y0 = y[f==0]\n",
    "\n",
    "#Teste\n",
    "x1 = x[f==1] \n",
    "y1 = y[f==1]\n",
    "\n",
    "# Adicionar 2ª dimensão\n",
    "X0 = x0[:,np.newaxis]\n",
    "X1 = x1[:,np.newaxis]\n",
    "print(\"X0.shape: \",X0.shape)\n",
    "print(\"X1.shape: \",X1.shape)\n",
    "\n",
    "# Criar modelo de regressão linear\n",
    "poly = PolynomialFeatures(degree=4).fit(X0)\n",
    "X0a = poly.transform(X0)\n",
    "X1a = poly.transform(X1)\n",
    "\n",
    "# Criar modelo de regressão linear\n",
    "lr = LinearRegression().fit(X0a, y0)\n",
    "y0e = lr.predict(X0a)\n",
    "y1e = lr.predict(X1a)\n",
    "\n",
    "print(\"i. No conjunto de treino, o erro absoluto medio e igual a 0.49: \", round(np.mean(np.abs(y0-y0e)), 2))\n",
    "print(\"ii. No conjunto de treino, o erro quadratico médio e igual a 0.12: \", round(np.mean((y0-y0e)**2), 2))\n",
    "\n",
    "#Resposta ii)"
   ]
  },
  {
   "cell_type": "markdown",
   "metadata": {},
   "source": [
    "#### (b) Considere o conjunto de treino composto pelo “fold” 1, e o conjunto de teste composto pelo “fold” 0. Considere ainda que, atraves da minimização do erro quadrático médio do conjunto de treino, se estimou um modelo regressão polinomial de 3ª ordem: $y = w_0 + w_1x + w_2x^2 + w_3x^3$."
   ]
  },
  {
   "cell_type": "code",
   "execution_count": 198,
   "metadata": {},
   "outputs": [
    {
     "name": "stdout",
     "output_type": "stream",
     "text": [
      "X0.shape:  (98, 1)\n",
      "X1.shape:  (66, 1)\n",
      "\n",
      "i. Arredondando a zero casas decimais, o valor de w0 e -9:  0.0\n",
      "ii. No conjunto de teste, o erro absoluto medio e igual a 0.52:  0.52\n"
     ]
    }
   ],
   "source": [
    "#Treino \n",
    "x1 = x[f==1] \n",
    "y1 = y[f==1]\n",
    "\n",
    "#Teste\n",
    "x0 = x[f==0] \n",
    "y0 = y[f==0]\n",
    "\n",
    "# Adicionar 2ª dimensão\n",
    "X0 = x0[:,np.newaxis] #Teste\n",
    "X1 = x1[:,np.newaxis] #Treino\n",
    "print(\"X0.shape: \",X0.shape)\n",
    "print(\"X1.shape: \",X1.shape)\n",
    "\n",
    "# Criar modelo de regressão linear\n",
    "poly = PolynomialFeatures(degree=3).fit(X1)\n",
    "X0a = poly.transform(X0)\n",
    "X1a = poly.transform(X1)\n",
    "\n",
    "# Criar modelo de regressão linear\n",
    "lr = LinearRegression().fit(X1a, y1)\n",
    "y0e = lr.predict(X0a)\n",
    "y1e = lr.predict(X1a)\n",
    "\n",
    "w0 = lr.intercept_\n",
    "print(\"\\ni. Arredondando a zero casas decimais, o valor de w0 e -9: \", round(w0, 0))\n",
    "print(\"ii. No conjunto de teste, o erro absoluto medio e igual a 0.52: \",round(np.mean(np.abs(y0-y0e)),2))\n",
    "\n",
    "#Resposta ii)"
   ]
  },
  {
   "cell_type": "markdown",
   "metadata": {},
   "source": [
    "#### Respostas"
   ]
  },
  {
   "cell_type": "code",
   "execution_count": 199,
   "metadata": {},
   "outputs": [],
   "source": [
    "QuestDic['Q001'][0,:] = np.array([0,1,0,0]) #ii\n",
    "QuestDic['Q001'][1,:] = np.array([0,1,0,0]) #ii"
   ]
  },
  {
   "cell_type": "markdown",
   "metadata": {},
   "source": [
    "### Exercício 2"
   ]
  },
  {
   "cell_type": "code",
   "execution_count": 200,
   "metadata": {},
   "outputs": [
    {
     "name": "stdout",
     "output_type": "stream",
     "text": [
      "dict_keys(['data', 'target', 'frame', 'DESCR', 'feature_names', 'data_filename', 'target_filename', 'data_module'])\n",
      "x.shape:  (442, 10)\n",
      "y.shape:  (442,)\n",
      "\n",
      "X1.shape:  (361, 10)\n",
      "X2.shape:  (81, 10)\n",
      "y1.shape:  (361,)\n",
      "y2.shape:  (81,)\n"
     ]
    }
   ],
   "source": [
    "D = dt.load_diabetes()\n",
    "print(D.keys())\n",
    "x = D['data']\n",
    "y = D['target']\n",
    "print(\"x.shape: \",x.shape)\n",
    "print(\"y.shape: \",y.shape)\n",
    "\n",
    "X1 = x[:361,:] #Treino\n",
    "X2 = x[361:,:] #Teste\n",
    "y1 = y[:361]\n",
    "y2 = y[361:]\n",
    "print(\"\\nX1.shape: \",X1.shape)\n",
    "print(\"X2.shape: \",X2.shape)\n",
    "print(\"y1.shape: \",y1.shape)\n",
    "print(\"y2.shape: \",y2.shape)"
   ]
  },
  {
   "cell_type": "markdown",
   "metadata": {},
   "source": [
    "#### (a) Considere o modelo de regressao polinomial de 2ª ordem que minimiza o erro quadratico médio no conjunto de treino."
   ]
  },
  {
   "cell_type": "code",
   "execution_count": 201,
   "metadata": {},
   "outputs": [
    {
     "name": "stdout",
     "output_type": "stream",
     "text": [
      "i. No conjunto de teste, o coeficiente de determinacao, R2, e igual a 0.595:  0.458\n",
      "ii. No conjunto de treino, o coeficiente de determinacao, R2, e igual a 0.78:  0.6\n"
     ]
    }
   ],
   "source": [
    "# Criar modelo de regressão linear\n",
    "poly = PolynomialFeatures(degree=2).fit(X1)\n",
    "X1a = poly.transform(X1)\n",
    "X2a = poly.transform(X2)\n",
    "\n",
    "lr = LinearRegression().fit(X1a, y1)\n",
    "r2_1 = lr.score(X1a, y1)\n",
    "r2_2 = lr.score(X2a, y2)\n",
    "print(\"i. No conjunto de teste, o coeficiente de determinacao, R2, e igual a 0.595: \", round(r2_2, 3))\n",
    "print(\"ii. No conjunto de treino, o coeficiente de determinacao, R2, e igual a 0.78: \", round(r2_1, 2))\n",
    "#Resposta iv) "
   ]
  },
  {
   "cell_type": "markdown",
   "metadata": {},
   "source": [
    "#### (b) Considere que utiliza funcao Lasso (sub-modulo linear model do sklearn) para uma regressao polinomial de 4ª ordem dos dados de treino. Instancie o regressor somente com os seguintes parametros:  Lasso(random state=42,alpha=0.01)"
   ]
  },
  {
   "cell_type": "code",
   "execution_count": 202,
   "metadata": {},
   "outputs": [
    {
     "name": "stdout",
     "output_type": "stream",
     "text": [
      "i. Excluindo w0, o numero de coeficientes do polinomio com valor absoluto maior que 219 e igual a 8 : 8\n",
      "ii. No conjunto de teste, o erro quadratico medio e igual a 2612.19  2612.19\n"
     ]
    }
   ],
   "source": [
    "# Criar modelo de regressão linear\n",
    "poly = PolynomialFeatures(degree=4).fit(X1)\n",
    "X1a = poly.transform(X1)\n",
    "X2a = poly.transform(X2)\n",
    "\n",
    "lr = Lasso(random_state=42, alpha=0.01).fit(X1a, y1)\n",
    "print(\"i. Excluindo w0, o numero de coeficientes do polinomio com valor absoluto maior que 219 e igual a 8 :\",np.sum(lr.coef_>219))\n",
    "\n",
    "y2e = lr.predict(X2a)\n",
    "print(\"ii. No conjunto de teste, o erro quadratico medio e igual a 2612.19 \",round(np.mean((y2-y2e)**2),2))\n",
    "\n",
    "#Resposta iii)"
   ]
  },
  {
   "cell_type": "markdown",
   "metadata": {},
   "source": [
    "#### (c)"
   ]
  },
  {
   "cell_type": "code",
   "execution_count": 203,
   "metadata": {},
   "outputs": [
    {
     "name": "stdout",
     "output_type": "stream",
     "text": [
      "i. O numero de coeficientes, incluindo w0, numa regressao polinomial de ordem 2, e igual a 66:  66\n",
      "ii. O numero de coeficientes, incluindo w0, numa regressao polinomial de ordem 4, e igual a 1009. 1001\n"
     ]
    }
   ],
   "source": [
    "def c(x,degree):\n",
    "    poly = PolynomialFeatures(degree=degree).fit(x)\n",
    "    X1a = poly.transform(x)\n",
    "    lr = Lasso(random_state=42, alpha=0.01).fit(X1a, y1)\n",
    "    return lr.n_features_in_\n",
    "\n",
    "print(\"i. O numero de coeficientes, incluindo w0, numa regressao polinomial de ordem 2, e igual a 66: \",c(X1,2))\n",
    "print(\"ii. O numero de coeficientes, incluindo w0, numa regressao polinomial de ordem 4, e igual a 1009.\", c(X1,4))\n",
    "#Resposta i)"
   ]
  },
  {
   "cell_type": "markdown",
   "metadata": {},
   "source": [
    "#### Respostas"
   ]
  },
  {
   "cell_type": "code",
   "execution_count": 204,
   "metadata": {},
   "outputs": [],
   "source": [
    "QuestDic['Q002'][0,:] = np.array([0,0,0,1]) #iV\n",
    "QuestDic['Q002'][1,:] = np.array([0,0,1,0]) #iii\n",
    "QuestDic['Q002'][2,:] = np.array([1,0,0,0]) #i"
   ]
  },
  {
   "cell_type": "markdown",
   "metadata": {},
   "source": [
    "### Exercício 3 <br>\n",
    "No ficheiro A46484_Q003_data.p, encontra-se um conjunto de dados bidimensionais divididos em duas classes Ω ={$w_0; w_1$} (negativos e positivos). Ha duas variaveis num dicionario: X e uma matriz de dados, e y e um array com as classes dos dados. Considere o seguinte modelo linear de classificacao: <br> \n",
    "$y = w^Tx = w_0 + w_1x_1 + w_2x_2$, <br>\n",
    "com $x \\in w_1$ para $y ≥ 0$, e para $w = [w_0; w_1; w_2]^T$ e $x=[1; x_1; x_2]^T$. <br>\n",
    "\n",
    "Considere ainda que o vetor $wMSE$ e o vetor de pesos que minimiza o erro quadratico medio deste conjunto: $E = \\frac 1N\\sum(y[n] − y[n])^2$, <br>\n",
    "onde N e o numero total de pontos, e n = 1,...,N. As saidas desejadas sao: $ y[n] = −1$ para $x[n] \\in w_0$ e y[n] = +1 para $x[n] \\in w_1$."
   ]
  },
  {
   "cell_type": "code",
   "execution_count": 205,
   "metadata": {},
   "outputs": [
    {
     "name": "stdout",
     "output_type": "stream",
     "text": [
      "dict_keys(['y', 'X'])\n",
      "x.shape:  (2, 2934)\n",
      "y.shape:  (2934,)\n",
      "X.shape:  (3, 2934)\n",
      "y.shape:  (2934,)\n"
     ]
    }
   ],
   "source": [
    "D = pickle.load(open(\"A46484_Q003_data.p\", \"rb\"))\n",
    "print(D.keys())\n",
    "x = D['X']\n",
    "y = D['y']\n",
    "print(\"x.shape: \",x.shape)\n",
    "print(\"y.shape: \",y.shape)\n",
    "\n",
    "X = np.vstack((np.ones(x.shape[1]), x))\n",
    "idx = np.argsort(y)\n",
    "y = y[idx]\n",
    "X = X[:,idx]\n",
    "print(\"X.shape: \",X.shape)\n",
    "print(\"y.shape: \",y.shape)\n",
    "\n",
    "# Colocar w0 a -1 de modo a comparar posteriormente\n",
    "y[y==0] = -1"
   ]
  },
  {
   "cell_type": "markdown",
   "metadata": {},
   "source": [
    "#### (a) Consider o classificador com o seguinte vetor de pesos w = [0:00; 0:86; −0:52]."
   ]
  },
  {
   "cell_type": "code",
   "execution_count": 206,
   "metadata": {},
   "outputs": [
    {
     "name": "stdout",
     "output_type": "stream",
     "text": [
      "\n",
      "Matriz de confusao:\n",
      " [[ 801  155]\n",
      " [ 205 1773]]\n",
      "\n",
      "i. O valor da precisao e de 0.916:  0.9196\n",
      "ii. O numero total de acertos e de 2574:  2574\n",
      "iii. O valor do recall e de 0.888:  0.896\n",
      "iv. O numero de acertos na classe w1 e de 1763:  1773\n"
     ]
    }
   ],
   "source": [
    "w  = np.array([0.00, 0.86, -0.52])\n",
    "ye = np.dot(w.T,X)\n",
    "\n",
    "# \"y>=0 são w1\" e \"w1 fica +1\"\n",
    "yeCopy = ye.copy()\n",
    "yeCopy[ye<0] = -1\n",
    "yeCopy[ye>=0]=  1 \n",
    "\n",
    "CM = confusion_matrix(y, yeCopy)\n",
    "print(\"\\nMatriz de confusao:\\n\",CM)\n",
    "# Se 0 > Negativo \n",
    "#    1 > Positivo\n",
    "# Tem-se:\n",
    "#\n",
    "#        estimado\n",
    "#          0  1\n",
    "# real  0 TN FP\n",
    "#       1 FN TP\n",
    "\n",
    "precisao = CM[1,1]/(CM[1,1]+CM[0,1])\n",
    "acertosTotal = CM[0,0]+CM[1,1]\n",
    "recall = CM[1,1]/(CM[1,1]+CM[1,0])\n",
    "print(\"\\ni. O valor da precisao e de 0.916: \",round(precisao,4))\n",
    "print(\"ii. O numero total de acertos e de 2574: \", acertosTotal)\n",
    "print(\"iii. O valor do recall e de 0.888: \", round(recall,3))\n",
    "print(\"iv. O numero de acertos na classe w1 e de 1763: \", CM[1,1])\n",
    "\n",
    "#Resposta ii)"
   ]
  },
  {
   "cell_type": "markdown",
   "metadata": {},
   "source": [
    "#### (b) Considere o classificador com vetor de pesos, wMSE, que minimiza o erro quadratico medio do conjunto."
   ]
  },
  {
   "cell_type": "code",
   "execution_count": 207,
   "metadata": {},
   "outputs": [
    {
     "name": "stdout",
     "output_type": "stream",
     "text": [
      "Matriz de Confusão: \n",
      " [[ 899   57]\n",
      " [   3 1975]]\n",
      "\n",
      "i. O vetor que minimiza o erro quadratico medio e wMSE = [0.089; 0.279; −0.016]:  [ 0.089  0.279 -0.016]\n",
      "ii. O erro quadratico medio e igual a 0.485:  0.485\n"
     ]
    }
   ],
   "source": [
    "Rx = np.dot(X, X.T)\n",
    "rxy = np.dot(X, y.T)\n",
    "wMSE = np.dot(la.pinv(Rx), rxy)\n",
    "\n",
    "ye = np.dot(wMSE.T, X)\n",
    "yeCopy = ye.copy()\n",
    "yeCopy[ye<0] = -1\n",
    "yeCopy[ye>=0] = 1\n",
    "\n",
    "cm = confusion_matrix(y, yeCopy)\n",
    "print(\"Matriz de Confusão: \\n\", cm)\n",
    "\n",
    "print(\"\\ni. O vetor que minimiza o erro quadratico medio e wMSE = [0.089; 0.279; −0.016]: \",np.around(wMSE,3))\n",
    "print(\"ii. O erro quadratico medio e igual a 0.485: \",round(np.mean((y-ye)**2),3))\n",
    "#Resposta iii)\n"
   ]
  },
  {
   "cell_type": "markdown",
   "metadata": {},
   "source": [
    "#### (c) Consider o classificador com o seguinte vetor de pesos w = [0:00; 0:87; 0:48]."
   ]
  },
  {
   "cell_type": "code",
   "execution_count": 208,
   "metadata": {},
   "outputs": [
    {
     "name": "stdout",
     "output_type": "stream",
     "text": [
      "Matriz de Confusão: \n",
      " [[ 692  264]\n",
      " [  95 1883]]\n",
      "\n",
      "i. A taxa de falsos alarmes e de 0.281:  0.276\n",
      "ii. O numero de acertos na classe w0 e de 692:  692\n"
     ]
    }
   ],
   "source": [
    "w  = np.array([0.00, 0.87, 0.48])\n",
    "ye = np.dot(w.T,X)\n",
    "\n",
    "yeCopy = ye.copy()\n",
    "yeCopy[ye<0] = -1\n",
    "yeCopy[ye>=0]=  1 \n",
    "\n",
    "cm = confusion_matrix(y, yeCopy)\n",
    "print(\"Matriz de Confusão: \\n\", cm)\n",
    "\n",
    "print(\"\\ni. A taxa de falsos alarmes e de 0.281: \",round(cm[0,1]/(cm[0,0]+cm[0,1]),3))\n",
    "print(\"ii. O numero de acertos na classe w0 e de 692: \", cm[0,0])\n",
    "#Resposta ii)"
   ]
  },
  {
   "cell_type": "markdown",
   "metadata": {},
   "source": [
    "#### Respostas"
   ]
  },
  {
   "cell_type": "code",
   "execution_count": 209,
   "metadata": {},
   "outputs": [],
   "source": [
    "QuestDic['Q003'][0,:] = np.array([0,1,0,0]) #ii\n",
    "QuestDic['Q003'][1,:] = np.array([0,0,1,0]) #iii\n",
    "QuestDic['Q003'][2,:] = np.array([0,1,0,0]) #ii\n",
    "pickle.dump(QuestDic,open('A46484_Ficha4_Respostas.p','wb'))"
   ]
  },
  {
   "cell_type": "markdown",
   "metadata": {},
   "source": [
    "### RESOLUÇÃO"
   ]
  },
  {
   "cell_type": "code",
   "execution_count": 210,
   "metadata": {},
   "outputs": [
    {
     "name": "stdout",
     "output_type": "stream",
     "text": [
      "Pergunta 1:\n",
      "  [[0. 1. 0. 0.]\n",
      " [0. 1. 0. 0.]]\n",
      "Pergunta 2:\n",
      "  [[0. 0. 0. 1.]\n",
      " [0. 0. 1. 0.]\n",
      " [1. 0. 0. 0.]]\n",
      "Pergunta 3:\n",
      "  [[0. 1. 0. 0.]\n",
      " [0. 0. 1. 0.]\n",
      " [0. 1. 0. 0.]]\n"
     ]
    }
   ],
   "source": [
    "QuestDic = pickle.load(open(\"A46484_Ficha4_Respostas.p\", \"rb\"))\n",
    "print(\"Pergunta 1:\\n \",QuestDic['Q001'])\n",
    "print(\"Pergunta 2:\\n \",QuestDic['Q002'])\n",
    "print(\"Pergunta 3:\\n \",QuestDic['Q003'])"
   ]
  }
 ],
 "metadata": {
  "kernelspec": {
   "display_name": "Python 3",
   "language": "python",
   "name": "python3"
  },
  "language_info": {
   "codemirror_mode": {
    "name": "ipython",
    "version": 3
   },
   "file_extension": ".py",
   "mimetype": "text/x-python",
   "name": "python",
   "nbconvert_exporter": "python",
   "pygments_lexer": "ipython3",
   "version": "3.11.5"
  }
 },
 "nbformat": 4,
 "nbformat_minor": 2
}
